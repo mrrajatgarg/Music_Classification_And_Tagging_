{
  "nbformat": 4,
  "nbformat_minor": 0,
  "metadata": {
    "colab": {
      "name": "MultiLabelMusicAutoTagging2DCNNTrainingAndTesting.ipynb",
      "version": "0.3.2",
      "provenance": [],
      "include_colab_link": true
    },
    "kernelspec": {
      "name": "python3",
      "display_name": "Python 3"
    },
    "accelerator": "GPU"
  },
  "cells": [
    {
      "cell_type": "markdown",
      "metadata": {
        "id": "view-in-github",
        "colab_type": "text"
      },
      "source": [
        "<a href=\"https://colab.research.google.com/github/mrrajatgarg/Music_Classification_And_Tagging_/blob/master/MultiLabelMusicAutoTagging2DCNNTrainingAndTesting.ipynb\" target=\"_parent\"><img src=\"https://colab.research.google.com/assets/colab-badge.svg\" alt=\"Open In Colab\"/></a>"
      ]
    },
    {
      "metadata": {
        "id": "heHSni0JjGrL",
        "colab_type": "text"
      },
      "cell_type": "markdown",
      "source": [
        "# Importing Libraries"
      ]
    },
    {
      "metadata": {
        "id": "POnbNimYjJIT",
        "colab_type": "code",
        "colab": {}
      },
      "cell_type": "code",
      "source": [
        "import pandas as pd\n",
        "import numpy as np"
      ],
      "execution_count": 0,
      "outputs": []
    },
    {
      "metadata": {
        "id": "UtG22Z6SmRbF",
        "colab_type": "code",
        "colab": {
          "base_uri": "https://localhost:8080/",
          "height": 90
        },
        "outputId": "2f8433e4-65ff-4d4f-c861-99d3ee1aa1d5"
      },
      "cell_type": "code",
      "source": [
        "!pip install sklearn\n",
        "import sklearn\n",
        "from sklearn.model_selection import train_test_split"
      ],
      "execution_count": 46,
      "outputs": [
        {
          "output_type": "stream",
          "text": [
            "Requirement already satisfied: sklearn in /usr/local/lib/python3.6/dist-packages (0.0)\n",
            "Requirement already satisfied: scikit-learn in /usr/local/lib/python3.6/dist-packages (from sklearn) (0.20.2)\n",
            "Requirement already satisfied: numpy>=1.8.2 in /usr/local/lib/python3.6/dist-packages (from scikit-learn->sklearn) (1.14.6)\n",
            "Requirement already satisfied: scipy>=0.13.3 in /usr/local/lib/python3.6/dist-packages (from scikit-learn->sklearn) (1.1.0)\n"
          ],
          "name": "stdout"
        }
      ]
    },
    {
      "metadata": {
        "id": "8iG3zYr6mpnK",
        "colab_type": "code",
        "colab": {
          "base_uri": "https://localhost:8080/",
          "height": 35
        },
        "outputId": "ce39519c-76cb-4dc4-9c7a-e9f3dfa90a9c"
      },
      "cell_type": "code",
      "source": [
        "import keras\n",
        "from keras.models import Sequential, Model, load_model\n",
        "from keras.layers import Input, Conv1D, Conv2D, MaxPooling1D, MaxPooling2D, Dense, Dropout, Activation, Flatten\n",
        "from keras.layers.normalization import BatchNormalization\n",
        "from keras.optimizers import SGD\n",
        "from keras.utils import to_categorical\n",
        "\n",
        "import kapre\n",
        "from kapre.time_frequency import Melspectrogram\n",
        "from kapre.utils import Normalization2D"
      ],
      "execution_count": 52,
      "outputs": [
        {
          "output_type": "stream",
          "text": [
            "Using TensorFlow backend.\n"
          ],
          "name": "stderr"
        }
      ]
    },
    {
      "metadata": {
        "id": "zzNMavghidnS",
        "colab_type": "text"
      },
      "cell_type": "markdown",
      "source": [
        "# Loading the .npy file saved earlier from Google Drive"
      ]
    },
    {
      "metadata": {
        "id": "87iZLnI7iZIX",
        "colab_type": "code",
        "colab": {}
      },
      "cell_type": "code",
      "source": [
        "# Code to read csv file into Colaboratory:\n",
        "!pip install -U -q PyDrive\n",
        "from pydrive.auth import GoogleAuth\n",
        "from pydrive.drive import GoogleDrive\n",
        "from google.colab import auth\n",
        "from oauth2client.client import GoogleCredentials"
      ],
      "execution_count": 0,
      "outputs": []
    },
    {
      "metadata": {
        "id": "i48QYW6yirGJ",
        "colab_type": "code",
        "colab": {}
      },
      "cell_type": "code",
      "source": [
        "# Authenticate and create the PyDrive client.\n",
        "auth.authenticate_user()\n",
        "gauth = GoogleAuth()\n",
        "gauth.credentials = GoogleCredentials.get_application_default()\n",
        "drive = GoogleDrive(gauth)"
      ],
      "execution_count": 0,
      "outputs": []
    },
    {
      "metadata": {
        "id": "pvSwwsIFjAIr",
        "colab_type": "text"
      },
      "cell_type": "markdown",
      "source": [
        "Link is the sharable link of the file"
      ]
    },
    {
      "metadata": {
        "id": "SQQdindPi4bh",
        "colab_type": "code",
        "colab": {}
      },
      "cell_type": "code",
      "source": [
        "link = 'https://drive.google.com/open?id=1y3S1mYaB3kygbvhe_sqN0OZqwe6ANmaj'\n",
        "\n",
        "fluff, id = link.split('=')\n",
        "\n",
        "print (id) # Verify that you have everything after '='\n",
        "\n",
        "downloaded = drive.CreateFile({'id':id}) \n",
        "downloaded.GetContentFile('list_data-file-duration29.npy') "
      ],
      "execution_count": 0,
      "outputs": []
    },
    {
      "metadata": {
        "id": "XGOYko4DjDyt",
        "colab_type": "code",
        "colab": {}
      },
      "cell_type": "code",
      "source": [
        "list_data = np.load('list_data-file-duration29.npy')"
      ],
      "execution_count": 0,
      "outputs": []
    },
    {
      "metadata": {
        "id": "wfwQ9nfAjSq6",
        "colab_type": "text"
      },
      "cell_type": "markdown",
      "source": [
        "I have loaded only 16250 audio files as loading more files causes my Google Colab to run out of memory."
      ]
    },
    {
      "metadata": {
        "id": "u3TFmvzkjPSG",
        "colab_type": "code",
        "colab": {
          "base_uri": "https://localhost:8080/",
          "height": 35
        },
        "outputId": "39ccae94-2402-4c41-e84e-ff2ed0b69d46"
      },
      "cell_type": "code",
      "source": [
        "list_data.shape"
      ],
      "execution_count": 4,
      "outputs": [
        {
          "output_type": "execute_result",
          "data": {
            "text/plain": [
              "(16250, 1, 61394)"
            ]
          },
          "metadata": {
            "tags": []
          },
          "execution_count": 4
        }
      ]
    },
    {
      "metadata": {
        "id": "JN6OIdxfjl76",
        "colab_type": "text"
      },
      "cell_type": "markdown",
      "source": [
        "# Preprocessing on Labels of audio files for getting the similarity used by most researchers to publish betchmarks"
      ]
    },
    {
      "metadata": {
        "id": "UnjilJ6Yj7Wp",
        "colab_type": "text"
      },
      "cell_type": "markdown",
      "source": [
        "Steps of Preprocessing includes:\n",
        "\n",
        "\n",
        "*   Removal of similar labels to single category\n",
        "*   Reducing the labels to 50 most common labels\n",
        "\n"
      ]
    },
    {
      "metadata": {
        "id": "ZUq2-0-Yjc95",
        "colab_type": "code",
        "colab": {}
      },
      "cell_type": "code",
      "source": [
        "directory_labels = '/content/'"
      ],
      "execution_count": 0,
      "outputs": []
    },
    {
      "metadata": {
        "id": "rkWlkEWVkLOp",
        "colab_type": "code",
        "colab": {}
      },
      "cell_type": "code",
      "source": [
        "# Load the annotations file (prior to execution check correctness of delimiter)\n",
        "annotations = pd.read_csv(directory_labels + 'annotations_final.csv', sep=\"\\t\")"
      ],
      "execution_count": 0,
      "outputs": []
    },
    {
      "metadata": {
        "id": "3upBtZAnkMqx",
        "colab_type": "code",
        "colab": {
          "base_uri": "https://localhost:8080/",
          "height": 108
        },
        "outputId": "ba60be4f-f1eb-47d5-f80d-1c95fbd0b5dd"
      },
      "cell_type": "code",
      "source": [
        "# check size of annotations\n",
        "annotations.info()"
      ],
      "execution_count": 27,
      "outputs": [
        {
          "output_type": "stream",
          "text": [
            "<class 'pandas.core.frame.DataFrame'>\n",
            "RangeIndex: 25863 entries, 0 to 25862\n",
            "Columns: 190 entries, clip_id to mp3_path\n",
            "dtypes: int64(189), object(1)\n",
            "memory usage: 37.5+ MB\n"
          ],
          "name": "stdout"
        }
      ]
    },
    {
      "metadata": {
        "id": "KdBdjp7dkOEB",
        "colab_type": "code",
        "colab": {
          "base_uri": "https://localhost:8080/",
          "height": 351
        },
        "outputId": "8447b3c5-2c16-4924-f76d-0b51799dbe14"
      },
      "cell_type": "code",
      "source": [
        "# ensure correct loading\n",
        "annotations.head(5)"
      ],
      "execution_count": 28,
      "outputs": [
        {
          "output_type": "execute_result",
          "data": {
            "text/html": [
              "<div>\n",
              "<style scoped>\n",
              "    .dataframe tbody tr th:only-of-type {\n",
              "        vertical-align: middle;\n",
              "    }\n",
              "\n",
              "    .dataframe tbody tr th {\n",
              "        vertical-align: top;\n",
              "    }\n",
              "\n",
              "    .dataframe thead th {\n",
              "        text-align: right;\n",
              "    }\n",
              "</style>\n",
              "<table border=\"1\" class=\"dataframe\">\n",
              "  <thead>\n",
              "    <tr style=\"text-align: right;\">\n",
              "      <th></th>\n",
              "      <th>clip_id</th>\n",
              "      <th>no voice</th>\n",
              "      <th>singer</th>\n",
              "      <th>duet</th>\n",
              "      <th>plucking</th>\n",
              "      <th>hard rock</th>\n",
              "      <th>world</th>\n",
              "      <th>bongos</th>\n",
              "      <th>harpsichord</th>\n",
              "      <th>female singing</th>\n",
              "      <th>...</th>\n",
              "      <th>rap</th>\n",
              "      <th>metal</th>\n",
              "      <th>hip hop</th>\n",
              "      <th>quick</th>\n",
              "      <th>water</th>\n",
              "      <th>baroque</th>\n",
              "      <th>women</th>\n",
              "      <th>fiddle</th>\n",
              "      <th>english</th>\n",
              "      <th>mp3_path</th>\n",
              "    </tr>\n",
              "  </thead>\n",
              "  <tbody>\n",
              "    <tr>\n",
              "      <th>0</th>\n",
              "      <td>2</td>\n",
              "      <td>0</td>\n",
              "      <td>0</td>\n",
              "      <td>0</td>\n",
              "      <td>0</td>\n",
              "      <td>0</td>\n",
              "      <td>0</td>\n",
              "      <td>0</td>\n",
              "      <td>0</td>\n",
              "      <td>0</td>\n",
              "      <td>...</td>\n",
              "      <td>0</td>\n",
              "      <td>0</td>\n",
              "      <td>0</td>\n",
              "      <td>0</td>\n",
              "      <td>0</td>\n",
              "      <td>0</td>\n",
              "      <td>0</td>\n",
              "      <td>0</td>\n",
              "      <td>0</td>\n",
              "      <td>f/american_bach_soloists-j_s__bach_solo_cantat...</td>\n",
              "    </tr>\n",
              "    <tr>\n",
              "      <th>1</th>\n",
              "      <td>6</td>\n",
              "      <td>0</td>\n",
              "      <td>0</td>\n",
              "      <td>0</td>\n",
              "      <td>0</td>\n",
              "      <td>0</td>\n",
              "      <td>0</td>\n",
              "      <td>0</td>\n",
              "      <td>0</td>\n",
              "      <td>0</td>\n",
              "      <td>...</td>\n",
              "      <td>0</td>\n",
              "      <td>0</td>\n",
              "      <td>0</td>\n",
              "      <td>0</td>\n",
              "      <td>0</td>\n",
              "      <td>1</td>\n",
              "      <td>0</td>\n",
              "      <td>0</td>\n",
              "      <td>0</td>\n",
              "      <td>f/american_bach_soloists-j_s__bach_solo_cantat...</td>\n",
              "    </tr>\n",
              "    <tr>\n",
              "      <th>2</th>\n",
              "      <td>10</td>\n",
              "      <td>0</td>\n",
              "      <td>0</td>\n",
              "      <td>0</td>\n",
              "      <td>0</td>\n",
              "      <td>0</td>\n",
              "      <td>0</td>\n",
              "      <td>0</td>\n",
              "      <td>0</td>\n",
              "      <td>0</td>\n",
              "      <td>...</td>\n",
              "      <td>0</td>\n",
              "      <td>0</td>\n",
              "      <td>0</td>\n",
              "      <td>0</td>\n",
              "      <td>0</td>\n",
              "      <td>0</td>\n",
              "      <td>0</td>\n",
              "      <td>0</td>\n",
              "      <td>0</td>\n",
              "      <td>f/american_bach_soloists-j_s__bach_solo_cantat...</td>\n",
              "    </tr>\n",
              "    <tr>\n",
              "      <th>3</th>\n",
              "      <td>11</td>\n",
              "      <td>0</td>\n",
              "      <td>0</td>\n",
              "      <td>0</td>\n",
              "      <td>0</td>\n",
              "      <td>0</td>\n",
              "      <td>0</td>\n",
              "      <td>0</td>\n",
              "      <td>0</td>\n",
              "      <td>0</td>\n",
              "      <td>...</td>\n",
              "      <td>0</td>\n",
              "      <td>0</td>\n",
              "      <td>0</td>\n",
              "      <td>0</td>\n",
              "      <td>0</td>\n",
              "      <td>0</td>\n",
              "      <td>0</td>\n",
              "      <td>0</td>\n",
              "      <td>0</td>\n",
              "      <td>f/american_bach_soloists-j_s__bach_solo_cantat...</td>\n",
              "    </tr>\n",
              "    <tr>\n",
              "      <th>4</th>\n",
              "      <td>12</td>\n",
              "      <td>0</td>\n",
              "      <td>0</td>\n",
              "      <td>0</td>\n",
              "      <td>0</td>\n",
              "      <td>0</td>\n",
              "      <td>0</td>\n",
              "      <td>0</td>\n",
              "      <td>0</td>\n",
              "      <td>0</td>\n",
              "      <td>...</td>\n",
              "      <td>0</td>\n",
              "      <td>0</td>\n",
              "      <td>0</td>\n",
              "      <td>0</td>\n",
              "      <td>0</td>\n",
              "      <td>0</td>\n",
              "      <td>0</td>\n",
              "      <td>0</td>\n",
              "      <td>0</td>\n",
              "      <td>f/american_bach_soloists-j_s__bach_solo_cantat...</td>\n",
              "    </tr>\n",
              "  </tbody>\n",
              "</table>\n",
              "<p>5 rows × 190 columns</p>\n",
              "</div>"
            ],
            "text/plain": [
              "   clip_id  no voice  singer  duet  plucking  hard rock  world  bongos  \\\n",
              "0        2         0       0     0         0          0      0       0   \n",
              "1        6         0       0     0         0          0      0       0   \n",
              "2       10         0       0     0         0          0      0       0   \n",
              "3       11         0       0     0         0          0      0       0   \n",
              "4       12         0       0     0         0          0      0       0   \n",
              "\n",
              "   harpsichord  female singing  \\\n",
              "0            0               0   \n",
              "1            0               0   \n",
              "2            0               0   \n",
              "3            0               0   \n",
              "4            0               0   \n",
              "\n",
              "                         ...                          rap  metal  hip hop  \\\n",
              "0                        ...                            0      0        0   \n",
              "1                        ...                            0      0        0   \n",
              "2                        ...                            0      0        0   \n",
              "3                        ...                            0      0        0   \n",
              "4                        ...                            0      0        0   \n",
              "\n",
              "   quick  water  baroque  women  fiddle  english  \\\n",
              "0      0      0        0      0       0        0   \n",
              "1      0      0        1      0       0        0   \n",
              "2      0      0        0      0       0        0   \n",
              "3      0      0        0      0       0        0   \n",
              "4      0      0        0      0       0        0   \n",
              "\n",
              "                                            mp3_path  \n",
              "0  f/american_bach_soloists-j_s__bach_solo_cantat...  \n",
              "1  f/american_bach_soloists-j_s__bach_solo_cantat...  \n",
              "2  f/american_bach_soloists-j_s__bach_solo_cantat...  \n",
              "3  f/american_bach_soloists-j_s__bach_solo_cantat...  \n",
              "4  f/american_bach_soloists-j_s__bach_solo_cantat...  \n",
              "\n",
              "[5 rows x 190 columns]"
            ]
          },
          "metadata": {
            "tags": []
          },
          "execution_count": 28
        }
      ]
    },
    {
      "metadata": {
        "id": "Cp3Mk1smkRRY",
        "colab_type": "code",
        "colab": {}
      },
      "cell_type": "code",
      "source": [
        "# merge synonym tags\n",
        "synonyms = [['beat', 'beats'],\n",
        "            ['chant', 'chanting'],\n",
        "            ['choir', 'choral'],\n",
        "            ['classical', 'clasical', 'classic'],\n",
        "            ['drum', 'drums'],\n",
        "            ['electro', 'electronic', 'electronica', 'electric'],\n",
        "            ['fast', 'fast beat', 'quick'],\n",
        "            ['female', 'female singer', 'female singing', 'female vocals', 'female vocal', 'female voice', 'woman', 'woman singing', 'women'],\n",
        "            ['flute', 'flutes'],\n",
        "            ['guitar', 'guitars'],\n",
        "            ['hard', 'hard rock'],\n",
        "            ['harpsichord', 'harpsicord'],\n",
        "            ['heavy', 'heavy metal', 'metal'],\n",
        "            ['horn', 'horns'],\n",
        "            ['india', 'indian'],\n",
        "            ['jazz', 'jazzy'],\n",
        "            ['male', 'male singer', 'male vocal', 'male vocals', 'male voice', 'man', 'man singing', 'men'],\n",
        "            ['no beat', 'no drums'],\n",
        "            ['no singer', 'no singing', 'no vocal','no vocals', 'no voice', 'no voices', 'instrumental'],\n",
        "            ['opera', 'operatic'],\n",
        "            ['orchestra', 'orchestral'],\n",
        "            ['quiet', 'silence'],\n",
        "            ['singer', 'singing'],\n",
        "            ['space', 'spacey'],\n",
        "            ['string', 'strings'],\n",
        "            ['synth', 'synthesizer'],\n",
        "            ['violin', 'violins'],\n",
        "            ['vocal', 'vocals', 'voice', 'voices'],\n",
        "            ['strange', 'weird']]"
      ],
      "execution_count": 0,
      "outputs": []
    },
    {
      "metadata": {
        "id": "as6zaUa9kU2W",
        "colab_type": "code",
        "colab": {}
      },
      "cell_type": "code",
      "source": [
        "# replace all synonym words with the first in the list constructed above\n",
        "for synonym_list in synonyms:\n",
        "    annotations[synonym_list[0]] = annotations[synonym_list].max(axis=1)\n",
        "    annotations.drop(synonym_list[1:], axis=1, inplace=True)"
      ],
      "execution_count": 0,
      "outputs": []
    },
    {
      "metadata": {
        "id": "j4ZCAZWSkXTO",
        "colab_type": "code",
        "colab": {
          "base_uri": "https://localhost:8080/",
          "height": 108
        },
        "outputId": "ba3999bf-d4bb-40f6-a96d-2eb1fa13a9f7"
      },
      "cell_type": "code",
      "source": [
        "# check results\n",
        "# previously: Columns: 190 entries, clip_id to mp3_path &  memory usage: 37.5+ MB\n",
        "# now: Columns: 136 entries, clip_id to mp3_path & memory usage: 26.8+ MB\n",
        "annotations.info()"
      ],
      "execution_count": 31,
      "outputs": [
        {
          "output_type": "stream",
          "text": [
            "<class 'pandas.core.frame.DataFrame'>\n",
            "RangeIndex: 25863 entries, 0 to 25862\n",
            "Columns: 136 entries, clip_id to mp3_path\n",
            "dtypes: int64(135), object(1)\n",
            "memory usage: 26.8+ MB\n"
          ],
          "name": "stdout"
        }
      ]
    },
    {
      "metadata": {
        "id": "MSuZw4XXkYua",
        "colab_type": "code",
        "colab": {}
      },
      "cell_type": "code",
      "source": [
        "# keep clip_id and mp3_path in a different matrix to bind later\n",
        "annotations_ids = annotations[['clip_id', 'mp3_path']]"
      ],
      "execution_count": 0,
      "outputs": []
    },
    {
      "metadata": {
        "id": "lfHvO_U0kaTY",
        "colab_type": "code",
        "colab": {}
      },
      "cell_type": "code",
      "source": [
        "# drop clip_id and mp3_path to proceed with distribution counts\n",
        "annotations = annotations[annotations.columns.difference(['clip_id', 'mp3_path'])]"
      ],
      "execution_count": 0,
      "outputs": []
    },
    {
      "metadata": {
        "id": "oZ6kPoo7kcb6",
        "colab_type": "code",
        "colab": {
          "base_uri": "https://localhost:8080/",
          "height": 108
        },
        "outputId": "956cbcea-75fb-440e-abb3-c2af34278647"
      },
      "cell_type": "code",
      "source": [
        "annotations.info()"
      ],
      "execution_count": 34,
      "outputs": [
        {
          "output_type": "stream",
          "text": [
            "<class 'pandas.core.frame.DataFrame'>\n",
            "RangeIndex: 25863 entries, 0 to 25862\n",
            "Columns: 134 entries, acoustic to world\n",
            "dtypes: int64(134)\n",
            "memory usage: 26.4 MB\n"
          ],
          "name": "stdout"
        }
      ]
    },
    {
      "metadata": {
        "id": "CAus1sm8keC3",
        "colab_type": "code",
        "colab": {}
      },
      "cell_type": "code",
      "source": [
        "# tags' distribution\n",
        "tags_distro = annotations.sum(axis=0)\n",
        "# sort tags according to their occurencies \n",
        "tags_distro.sort_values(axis=0, inplace=True, ascending = False)"
      ],
      "execution_count": 0,
      "outputs": []
    },
    {
      "metadata": {
        "id": "boZCo2qMkhS0",
        "colab_type": "code",
        "colab": {}
      },
      "cell_type": "code",
      "source": [
        "#find 50 top tags\n",
        "topindex, topvalues = list(tags_distro.index[:50]), tags_distro.values[:50]"
      ],
      "execution_count": 0,
      "outputs": []
    },
    {
      "metadata": {
        "id": "Iw4lYs5ukilB",
        "colab_type": "code",
        "colab": {}
      },
      "cell_type": "code",
      "source": [
        "# list of columns to remove from annotation file (not common labels)\n",
        "rem_cols_index =list(tags_distro.index[50:])"
      ],
      "execution_count": 0,
      "outputs": []
    },
    {
      "metadata": {
        "id": "Vb1nyPZ5kj25",
        "colab_type": "code",
        "colab": {
          "base_uri": "https://localhost:8080/",
          "height": 35
        },
        "outputId": "b465bf77-cc6d-40ac-971f-e00f01ed351b"
      },
      "cell_type": "code",
      "source": [
        "#check how many columns we are about to remove\n",
        "len(rem_cols_index)"
      ],
      "execution_count": 38,
      "outputs": [
        {
          "output_type": "execute_result",
          "data": {
            "text/plain": [
              "84"
            ]
          },
          "metadata": {
            "tags": []
          },
          "execution_count": 38
        }
      ]
    },
    {
      "metadata": {
        "id": "A7C0jgwKkoZG",
        "colab_type": "code",
        "colab": {}
      },
      "cell_type": "code",
      "source": [
        "# keep only the 50 most common tags\n",
        "annotations.drop(rem_cols_index, axis=1, inplace=True)"
      ],
      "execution_count": 0,
      "outputs": []
    },
    {
      "metadata": {
        "id": "fm16WaxHkvHR",
        "colab_type": "code",
        "colab": {
          "base_uri": "https://localhost:8080/",
          "height": 247
        },
        "outputId": "e806d791-fcc8-4d77-be93-04af162f49bf"
      },
      "cell_type": "code",
      "source": [
        "# ensure correct binding\n",
        "annotations.head(5)"
      ],
      "execution_count": 40,
      "outputs": [
        {
          "output_type": "execute_result",
          "data": {
            "text/html": [
              "<div>\n",
              "<style scoped>\n",
              "    .dataframe tbody tr th:only-of-type {\n",
              "        vertical-align: middle;\n",
              "    }\n",
              "\n",
              "    .dataframe tbody tr th {\n",
              "        vertical-align: top;\n",
              "    }\n",
              "\n",
              "    .dataframe thead th {\n",
              "        text-align: right;\n",
              "    }\n",
              "</style>\n",
              "<table border=\"1\" class=\"dataframe\">\n",
              "  <thead>\n",
              "    <tr style=\"text-align: right;\">\n",
              "      <th></th>\n",
              "      <th>ambient</th>\n",
              "      <th>baroque</th>\n",
              "      <th>bass</th>\n",
              "      <th>beat</th>\n",
              "      <th>cello</th>\n",
              "      <th>chant</th>\n",
              "      <th>choir</th>\n",
              "      <th>classical</th>\n",
              "      <th>country</th>\n",
              "      <th>dance</th>\n",
              "      <th>...</th>\n",
              "      <th>slow</th>\n",
              "      <th>soft</th>\n",
              "      <th>solo</th>\n",
              "      <th>strange</th>\n",
              "      <th>string</th>\n",
              "      <th>synth</th>\n",
              "      <th>techno</th>\n",
              "      <th>trance</th>\n",
              "      <th>violin</th>\n",
              "      <th>vocal</th>\n",
              "    </tr>\n",
              "  </thead>\n",
              "  <tbody>\n",
              "    <tr>\n",
              "      <th>0</th>\n",
              "      <td>0</td>\n",
              "      <td>0</td>\n",
              "      <td>0</td>\n",
              "      <td>0</td>\n",
              "      <td>0</td>\n",
              "      <td>0</td>\n",
              "      <td>0</td>\n",
              "      <td>1</td>\n",
              "      <td>0</td>\n",
              "      <td>0</td>\n",
              "      <td>...</td>\n",
              "      <td>0</td>\n",
              "      <td>0</td>\n",
              "      <td>0</td>\n",
              "      <td>0</td>\n",
              "      <td>1</td>\n",
              "      <td>0</td>\n",
              "      <td>0</td>\n",
              "      <td>0</td>\n",
              "      <td>1</td>\n",
              "      <td>0</td>\n",
              "    </tr>\n",
              "    <tr>\n",
              "      <th>1</th>\n",
              "      <td>0</td>\n",
              "      <td>1</td>\n",
              "      <td>0</td>\n",
              "      <td>0</td>\n",
              "      <td>0</td>\n",
              "      <td>0</td>\n",
              "      <td>0</td>\n",
              "      <td>1</td>\n",
              "      <td>0</td>\n",
              "      <td>0</td>\n",
              "      <td>...</td>\n",
              "      <td>0</td>\n",
              "      <td>0</td>\n",
              "      <td>0</td>\n",
              "      <td>0</td>\n",
              "      <td>1</td>\n",
              "      <td>0</td>\n",
              "      <td>0</td>\n",
              "      <td>0</td>\n",
              "      <td>1</td>\n",
              "      <td>0</td>\n",
              "    </tr>\n",
              "    <tr>\n",
              "      <th>2</th>\n",
              "      <td>0</td>\n",
              "      <td>0</td>\n",
              "      <td>0</td>\n",
              "      <td>0</td>\n",
              "      <td>0</td>\n",
              "      <td>0</td>\n",
              "      <td>0</td>\n",
              "      <td>1</td>\n",
              "      <td>0</td>\n",
              "      <td>0</td>\n",
              "      <td>...</td>\n",
              "      <td>0</td>\n",
              "      <td>0</td>\n",
              "      <td>0</td>\n",
              "      <td>0</td>\n",
              "      <td>0</td>\n",
              "      <td>0</td>\n",
              "      <td>0</td>\n",
              "      <td>0</td>\n",
              "      <td>0</td>\n",
              "      <td>0</td>\n",
              "    </tr>\n",
              "    <tr>\n",
              "      <th>3</th>\n",
              "      <td>0</td>\n",
              "      <td>0</td>\n",
              "      <td>0</td>\n",
              "      <td>0</td>\n",
              "      <td>0</td>\n",
              "      <td>0</td>\n",
              "      <td>0</td>\n",
              "      <td>0</td>\n",
              "      <td>0</td>\n",
              "      <td>0</td>\n",
              "      <td>...</td>\n",
              "      <td>0</td>\n",
              "      <td>0</td>\n",
              "      <td>0</td>\n",
              "      <td>0</td>\n",
              "      <td>0</td>\n",
              "      <td>0</td>\n",
              "      <td>0</td>\n",
              "      <td>0</td>\n",
              "      <td>0</td>\n",
              "      <td>0</td>\n",
              "    </tr>\n",
              "    <tr>\n",
              "      <th>4</th>\n",
              "      <td>0</td>\n",
              "      <td>0</td>\n",
              "      <td>0</td>\n",
              "      <td>0</td>\n",
              "      <td>0</td>\n",
              "      <td>0</td>\n",
              "      <td>0</td>\n",
              "      <td>1</td>\n",
              "      <td>0</td>\n",
              "      <td>0</td>\n",
              "      <td>...</td>\n",
              "      <td>0</td>\n",
              "      <td>0</td>\n",
              "      <td>0</td>\n",
              "      <td>0</td>\n",
              "      <td>1</td>\n",
              "      <td>0</td>\n",
              "      <td>0</td>\n",
              "      <td>0</td>\n",
              "      <td>1</td>\n",
              "      <td>0</td>\n",
              "    </tr>\n",
              "  </tbody>\n",
              "</table>\n",
              "<p>5 rows × 50 columns</p>\n",
              "</div>"
            ],
            "text/plain": [
              "   ambient  baroque  bass  beat  cello  chant  choir  classical  country  \\\n",
              "0        0        0     0     0      0      0      0          1        0   \n",
              "1        0        1     0     0      0      0      0          1        0   \n",
              "2        0        0     0     0      0      0      0          1        0   \n",
              "3        0        0     0     0      0      0      0          0        0   \n",
              "4        0        0     0     0      0      0      0          1        0   \n",
              "\n",
              "   dance  ...    slow  soft  solo  strange  string  synth  techno  trance  \\\n",
              "0      0  ...       0     0     0        0       1      0       0       0   \n",
              "1      0  ...       0     0     0        0       1      0       0       0   \n",
              "2      0  ...       0     0     0        0       0      0       0       0   \n",
              "3      0  ...       0     0     0        0       0      0       0       0   \n",
              "4      0  ...       0     0     0        0       1      0       0       0   \n",
              "\n",
              "   violin  vocal  \n",
              "0       1      0  \n",
              "1       1      0  \n",
              "2       0      0  \n",
              "3       0      0  \n",
              "4       1      0  \n",
              "\n",
              "[5 rows x 50 columns]"
            ]
          },
          "metadata": {
            "tags": []
          },
          "execution_count": 40
        }
      ]
    },
    {
      "metadata": {
        "id": "_b95ZEWfkwn7",
        "colab_type": "code",
        "colab": {
          "base_uri": "https://localhost:8080/",
          "height": 35
        },
        "outputId": "c59b69b1-f874-4158-bfdf-b596c77ff18f"
      },
      "cell_type": "code",
      "source": [
        "annotations.shape"
      ],
      "execution_count": 41,
      "outputs": [
        {
          "output_type": "execute_result",
          "data": {
            "text/plain": [
              "(25863, 50)"
            ]
          },
          "metadata": {
            "tags": []
          },
          "execution_count": 41
        }
      ]
    },
    {
      "metadata": {
        "id": "I46l4Gtbly9D",
        "colab_type": "text"
      },
      "cell_type": "markdown",
      "source": [
        "# Converting above files to format so that we can train model on them"
      ]
    },
    {
      "metadata": {
        "id": "5tXmhLM_lpxF",
        "colab_type": "code",
        "colab": {
          "base_uri": "https://localhost:8080/",
          "height": 54
        },
        "outputId": "d8493741-b935-4abb-c3ea-f9ad1f6e6332"
      },
      "cell_type": "code",
      "source": [
        "print(list_data.shape)\n",
        "print(annotations.shape)"
      ],
      "execution_count": 42,
      "outputs": [
        {
          "output_type": "stream",
          "text": [
            "(16250, 1, 61394)\n",
            "(25863, 50)\n"
          ],
          "name": "stdout"
        }
      ]
    },
    {
      "metadata": {
        "id": "OEDrnqW0l4pA",
        "colab_type": "code",
        "colab": {}
      },
      "cell_type": "code",
      "source": [
        "new_annotations = annotations[0:16250]"
      ],
      "execution_count": 0,
      "outputs": []
    },
    {
      "metadata": {
        "id": "aY9D8IAil8GJ",
        "colab_type": "code",
        "colab": {}
      },
      "cell_type": "code",
      "source": [
        "classes = new_annotations.values"
      ],
      "execution_count": 0,
      "outputs": []
    },
    {
      "metadata": {
        "id": "fQ4iVPn3l9fI",
        "colab_type": "code",
        "colab": {
          "base_uri": "https://localhost:8080/",
          "height": 35
        },
        "outputId": "4de6e4ca-3bf5-4a6c-e301-3477d68e524a"
      },
      "cell_type": "code",
      "source": [
        "classes.shape"
      ],
      "execution_count": 45,
      "outputs": [
        {
          "output_type": "execute_result",
          "data": {
            "text/plain": [
              "(16250, 50)"
            ]
          },
          "metadata": {
            "tags": []
          },
          "execution_count": 45
        }
      ]
    },
    {
      "metadata": {
        "id": "tNMNdEFomEh7",
        "colab_type": "text"
      },
      "cell_type": "markdown",
      "source": [
        "# Splitting of Dataset into training (80%) and validation (20%) set."
      ]
    },
    {
      "metadata": {
        "id": "JjmP_qnQl_Ds",
        "colab_type": "code",
        "colab": {}
      },
      "cell_type": "code",
      "source": [
        "X_train, X_test, y_train, y_test = train_test_split(list_data, classes, test_size=0.2, random_state=1) #20000"
      ],
      "execution_count": 0,
      "outputs": []
    },
    {
      "metadata": {
        "id": "jV08X6Y1mVEB",
        "colab_type": "code",
        "colab": {
          "base_uri": "https://localhost:8080/",
          "height": 35
        },
        "outputId": "bea81cec-e831-4828-9dee-ec19316e445b"
      },
      "cell_type": "code",
      "source": [
        "X_train.shape"
      ],
      "execution_count": 49,
      "outputs": [
        {
          "output_type": "execute_result",
          "data": {
            "text/plain": [
              "(13000, 1, 61394)"
            ]
          },
          "metadata": {
            "tags": []
          },
          "execution_count": 49
        }
      ]
    },
    {
      "metadata": {
        "id": "idQ4-jvUmYuq",
        "colab_type": "code",
        "colab": {
          "base_uri": "https://localhost:8080/",
          "height": 35
        },
        "outputId": "41c8d9ba-07cb-440f-dc6a-4429b6573a48"
      },
      "cell_type": "code",
      "source": [
        "X_test.shape"
      ],
      "execution_count": 50,
      "outputs": [
        {
          "output_type": "execute_result",
          "data": {
            "text/plain": [
              "(3250, 1, 61394)"
            ]
          },
          "metadata": {
            "tags": []
          },
          "execution_count": 50
        }
      ]
    },
    {
      "metadata": {
        "id": "ZBOAoGL2mdov",
        "colab_type": "text"
      },
      "cell_type": "markdown",
      "source": [
        "# Building of CNN model"
      ]
    },
    {
      "metadata": {
        "id": "G9AQyqhQmbEW",
        "colab_type": "code",
        "colab": {
          "base_uri": "https://localhost:8080/",
          "height": 35
        },
        "outputId": "ddc596f4-5eef-4f8f-dd1d-d3357402b005"
      },
      "cell_type": "code",
      "source": [
        "input_shape = X_train.shape[1:]  \n",
        "input_shape"
      ],
      "execution_count": 51,
      "outputs": [
        {
          "output_type": "execute_result",
          "data": {
            "text/plain": [
              "(1, 61394)"
            ]
          },
          "metadata": {
            "tags": []
          },
          "execution_count": 51
        }
      ]
    },
    {
      "metadata": {
        "id": "GQTx7iGQmhCF",
        "colab_type": "code",
        "colab": {}
      },
      "cell_type": "code",
      "source": [
        "model = Sequential()\n",
        "model.add(Melspectrogram(n_dft=1024, n_hop=512, input_shape=input_shape, return_decibel_melgram=True, name='melgram'))\n",
        "model.add(Normalization2D(str_axis='freq'))\n",
        "\n",
        "# Layer 1\n",
        "model.add(Conv2D(32, (3, 3), activation='relu'))\n",
        "# model.add(BatchNormalization())\n",
        "model.add(MaxPooling2D(pool_size=(2, 2))) \n",
        "\n",
        "# Layer 2\n",
        "model.add(Conv2D(32, (3, 3), activation='relu'))\n",
        "# model.add(BatchNormalization())\n",
        "model.add(MaxPooling2D(pool_size=(2, 2))) \n",
        "model.add(Flatten()) \n",
        "\n",
        "model.add(Dense(100, activation='relu')) \n",
        "# model.add(BatchNormalization())\n",
        "model.add(Dense(50,activation='sigmoid'))\n",
        "\n",
        "model.compile(loss='binary_crossentropy' , optimizer='sgd' , metrics=['accuracy'])"
      ],
      "execution_count": 0,
      "outputs": []
    },
    {
      "metadata": {
        "id": "B0LOS1yvmuaV",
        "colab_type": "code",
        "colab": {
          "base_uri": "https://localhost:8080/",
          "height": 472
        },
        "outputId": "a6aab50d-a0a7-4ba8-8c5b-d93576d03860"
      },
      "cell_type": "code",
      "source": [
        "model.summary()"
      ],
      "execution_count": 54,
      "outputs": [
        {
          "output_type": "stream",
          "text": [
            "_________________________________________________________________\n",
            "Layer (type)                 Output Shape              Param #   \n",
            "=================================================================\n",
            "melgram (Melspectrogram)     (None, 128, 120, 1)       1116288   \n",
            "_________________________________________________________________\n",
            "normalization2d_1 (Normaliza (None, 128, 120, 1)       0         \n",
            "_________________________________________________________________\n",
            "conv2d_1 (Conv2D)            (None, 126, 118, 32)      320       \n",
            "_________________________________________________________________\n",
            "max_pooling2d_1 (MaxPooling2 (None, 63, 59, 32)        0         \n",
            "_________________________________________________________________\n",
            "conv2d_2 (Conv2D)            (None, 61, 57, 32)        9248      \n",
            "_________________________________________________________________\n",
            "max_pooling2d_2 (MaxPooling2 (None, 30, 28, 32)        0         \n",
            "_________________________________________________________________\n",
            "flatten_1 (Flatten)          (None, 26880)             0         \n",
            "_________________________________________________________________\n",
            "dense_1 (Dense)              (None, 100)               2688100   \n",
            "_________________________________________________________________\n",
            "dense_2 (Dense)              (None, 50)                5050      \n",
            "=================================================================\n",
            "Total params: 3,819,006\n",
            "Trainable params: 2,702,718\n",
            "Non-trainable params: 1,116,288\n",
            "_________________________________________________________________\n"
          ],
          "name": "stdout"
        }
      ]
    },
    {
      "metadata": {
        "id": "o_XXfY-emyvA",
        "colab_type": "text"
      },
      "cell_type": "markdown",
      "source": [
        "# Training of Model and checking Probabilistic Accuracy"
      ]
    },
    {
      "metadata": {
        "id": "AFuNyptcmv4z",
        "colab_type": "code",
        "colab": {
          "base_uri": "https://localhost:8080/",
          "height": 417
        },
        "outputId": "a889f4ce-3d77-4117-c416-19cde4ff7e5b"
      },
      "cell_type": "code",
      "source": [
        "model.fit(X_train, y_train, validation_data=(X_test, y_test), batch_size=32, epochs=10)"
      ],
      "execution_count": 55,
      "outputs": [
        {
          "output_type": "stream",
          "text": [
            "Train on 13000 samples, validate on 3250 samples\n",
            "Epoch 1/10\n",
            "13000/13000 [==============================] - 21s 2ms/step - loss: 0.2452 - acc: 0.9276 - val_loss: 0.1822 - val_acc: 0.9473\n",
            "Epoch 2/10\n",
            "13000/13000 [==============================] - 17s 1ms/step - loss: 0.1817 - acc: 0.9463 - val_loss: 0.1769 - val_acc: 0.9473\n",
            "Epoch 3/10\n",
            "13000/13000 [==============================] - 17s 1ms/step - loss: 0.1778 - acc: 0.9464 - val_loss: 0.1737 - val_acc: 0.9474\n",
            "Epoch 4/10\n",
            "13000/13000 [==============================] - 17s 1ms/step - loss: 0.1750 - acc: 0.9464 - val_loss: 0.1718 - val_acc: 0.9476\n",
            "Epoch 5/10\n",
            "13000/13000 [==============================] - 17s 1ms/step - loss: 0.1732 - acc: 0.9466 - val_loss: 0.1704 - val_acc: 0.9475\n",
            "Epoch 6/10\n",
            "13000/13000 [==============================] - 17s 1ms/step - loss: 0.1720 - acc: 0.9466 - val_loss: 0.1692 - val_acc: 0.9478\n",
            "Epoch 7/10\n",
            "13000/13000 [==============================] - 17s 1ms/step - loss: 0.1706 - acc: 0.9468 - val_loss: 0.1683 - val_acc: 0.9477\n",
            "Epoch 8/10\n",
            "13000/13000 [==============================] - 17s 1ms/step - loss: 0.1698 - acc: 0.9469 - val_loss: 0.1674 - val_acc: 0.9479\n",
            "Epoch 9/10\n",
            "13000/13000 [==============================] - 17s 1ms/step - loss: 0.1686 - acc: 0.9469 - val_loss: 0.1670 - val_acc: 0.9480\n",
            "Epoch 10/10\n",
            "13000/13000 [==============================] - 17s 1ms/step - loss: 0.1679 - acc: 0.9470 - val_loss: 0.1660 - val_acc: 0.9480\n"
          ],
          "name": "stdout"
        },
        {
          "output_type": "execute_result",
          "data": {
            "text/plain": [
              "<keras.callbacks.History at 0x7f988b4902e8>"
            ]
          },
          "metadata": {
            "tags": []
          },
          "execution_count": 55
        }
      ]
    },
    {
      "metadata": {
        "id": "oG5uyNeVm8Vp",
        "colab_type": "text"
      },
      "cell_type": "markdown",
      "source": [
        "# Checking Accuracy on More Relevant Metrics like AUC"
      ]
    },
    {
      "metadata": {
        "id": "N8VrLFMgm68p",
        "colab_type": "code",
        "colab": {}
      },
      "cell_type": "code",
      "source": [
        ""
      ],
      "execution_count": 0,
      "outputs": []
    }
  ]
}