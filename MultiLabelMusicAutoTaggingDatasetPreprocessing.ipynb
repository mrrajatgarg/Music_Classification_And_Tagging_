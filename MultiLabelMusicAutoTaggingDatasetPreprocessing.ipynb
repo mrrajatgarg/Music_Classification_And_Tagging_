{
  "nbformat": 4,
  "nbformat_minor": 0,
  "metadata": {
    "colab": {
      "name": "MultiLabelMusicAutoTaggingDatasetPreprocessing.ipynb",
      "version": "0.3.2",
      "provenance": [],
      "collapsed_sections": [],
      "include_colab_link": true
    },
    "kernelspec": {
      "name": "python3",
      "display_name": "Python 3"
    },
    "accelerator": "GPU"
  },
  "cells": [
    {
      "cell_type": "markdown",
      "metadata": {
        "id": "view-in-github",
        "colab_type": "text"
      },
      "source": [
        "<a href=\"https://colab.research.google.com/github/mrrajatgarg/Music_Classification_And_Tagging_/blob/master/MultiLabelMusicAutoTaggingDatasetPreprocessing.ipynb\" target=\"_parent\"><img src=\"https://colab.research.google.com/assets/colab-badge.svg\" alt=\"Open In Colab\"/></a>"
      ]
    },
    {
      "metadata": {
        "id": "GcQBI47nIBWB",
        "colab_type": "text"
      },
      "cell_type": "markdown",
      "source": [
        "# Downloading Dataset - MagnaTagATune"
      ]
    },
    {
      "metadata": {
        "id": "3RktLqoEcWXU",
        "colab_type": "text"
      },
      "cell_type": "markdown",
      "source": [
        "Downloading the three mp3.zip files containing audio's of 29 seconds each. Total number of audio's present in the dataset is 25863."
      ]
    },
    {
      "metadata": {
        "id": "VMGuo7yjIEOk",
        "colab_type": "code",
        "outputId": "239f44cd-62d7-4c8f-a979-5ed511c6be84",
        "colab": {
          "base_uri": "https://localhost:8080/",
          "height": 308
        }
      },
      "cell_type": "code",
      "source": [
        "\n",
        "!wget http://mi.soi.city.ac.uk/datasets/magnatagatune/mp3.zip.001"
      ],
      "execution_count": 0,
      "outputs": [
        {
          "output_type": "stream",
          "text": [
            "--2019-01-30 05:00:15--  http://mi.soi.city.ac.uk/datasets/magnatagatune/mp3.zip.001\n",
            "Resolving mi.soi.city.ac.uk (mi.soi.city.ac.uk)... 138.40.77.76\n",
            "Connecting to mi.soi.city.ac.uk (mi.soi.city.ac.uk)|138.40.77.76|:80... connected.\n",
            "HTTP request sent, awaiting response... 301 Moved Permanently\n",
            "Location: http://mirg.city.ac.uk/datasets/magnatagatune/mp3.zip.001 [following]\n",
            "--2019-01-30 05:00:20--  http://mirg.city.ac.uk/datasets/magnatagatune/mp3.zip.001\n",
            "Resolving mirg.city.ac.uk (mirg.city.ac.uk)... 138.40.249.100\n",
            "Connecting to mirg.city.ac.uk (mirg.city.ac.uk)|138.40.249.100|:80... connected.\n",
            "HTTP request sent, awaiting response... 200 OK\n",
            "Length: 1100000000 (1.0G) [application/zip]\n",
            "Saving to: ‘mp3.zip.001’\n",
            "\n",
            "mp3.zip.001         100%[===================>]   1.02G  30.6MB/s    in 37s     \n",
            "\n",
            "2019-01-30 05:00:58 (28.4 MB/s) - ‘mp3.zip.001’ saved [1100000000/1100000000]\n",
            "\n"
          ],
          "name": "stdout"
        }
      ]
    },
    {
      "metadata": {
        "id": "AOHjefXGIElk",
        "colab_type": "code",
        "outputId": "02ad1524-d66d-4803-9030-2a4aa2db1768",
        "colab": {
          "base_uri": "https://localhost:8080/",
          "height": 308
        }
      },
      "cell_type": "code",
      "source": [
        "!wget http://mi.soi.city.ac.uk/datasets/magnatagatune/mp3.zip.002"
      ],
      "execution_count": 0,
      "outputs": [
        {
          "output_type": "stream",
          "text": [
            "--2019-01-30 05:01:04--  http://mi.soi.city.ac.uk/datasets/magnatagatune/mp3.zip.002\n",
            "Resolving mi.soi.city.ac.uk (mi.soi.city.ac.uk)... 138.40.77.76\n",
            "Connecting to mi.soi.city.ac.uk (mi.soi.city.ac.uk)|138.40.77.76|:80... connected.\n",
            "HTTP request sent, awaiting response... 301 Moved Permanently\n",
            "Location: http://mirg.city.ac.uk/datasets/magnatagatune/mp3.zip.002 [following]\n",
            "--2019-01-30 05:01:04--  http://mirg.city.ac.uk/datasets/magnatagatune/mp3.zip.002\n",
            "Resolving mirg.city.ac.uk (mirg.city.ac.uk)... 138.40.249.100\n",
            "Connecting to mirg.city.ac.uk (mirg.city.ac.uk)|138.40.249.100|:80... connected.\n",
            "HTTP request sent, awaiting response... 200 OK\n",
            "Length: 1100000000 (1.0G) [application/zip]\n",
            "Saving to: ‘mp3.zip.002’\n",
            "\n",
            "mp3.zip.002         100%[===================>]   1.02G  29.9MB/s    in 37s     \n",
            "\n",
            "2019-01-30 05:01:42 (28.0 MB/s) - ‘mp3.zip.002’ saved [1100000000/1100000000]\n",
            "\n"
          ],
          "name": "stdout"
        }
      ]
    },
    {
      "metadata": {
        "id": "oo13RxpvIExR",
        "colab_type": "code",
        "outputId": "e29616af-6d71-44a6-dcf4-0a362f346a2a",
        "colab": {
          "base_uri": "https://localhost:8080/",
          "height": 308
        }
      },
      "cell_type": "code",
      "source": [
        "!wget http://mi.soi.city.ac.uk/datasets/magnatagatune/mp3.zip.003"
      ],
      "execution_count": 0,
      "outputs": [
        {
          "output_type": "stream",
          "text": [
            "--2019-01-30 05:01:47--  http://mi.soi.city.ac.uk/datasets/magnatagatune/mp3.zip.003\n",
            "Resolving mi.soi.city.ac.uk (mi.soi.city.ac.uk)... 138.40.77.76\n",
            "Connecting to mi.soi.city.ac.uk (mi.soi.city.ac.uk)|138.40.77.76|:80... connected.\n",
            "HTTP request sent, awaiting response... 301 Moved Permanently\n",
            "Location: http://mirg.city.ac.uk/datasets/magnatagatune/mp3.zip.003 [following]\n",
            "--2019-01-30 05:01:47--  http://mirg.city.ac.uk/datasets/magnatagatune/mp3.zip.003\n",
            "Resolving mirg.city.ac.uk (mirg.city.ac.uk)... 138.40.249.100\n",
            "Connecting to mirg.city.ac.uk (mirg.city.ac.uk)|138.40.249.100|:80... connected.\n",
            "HTTP request sent, awaiting response... 200 OK\n",
            "Length: 772769864 (737M) [application/zip]\n",
            "Saving to: ‘mp3.zip.003’\n",
            "\n",
            "mp3.zip.003         100%[===================>] 736.97M  30.3MB/s    in 27s     \n",
            "\n",
            "2019-01-30 05:02:14 (27.5 MB/s) - ‘mp3.zip.003’ saved [772769864/772769864]\n",
            "\n"
          ],
          "name": "stdout"
        }
      ]
    },
    {
      "metadata": {
        "id": "s-FDynMbIE57",
        "colab_type": "code",
        "outputId": "9c336641-bc3c-4a54-ef6d-868377b1c912",
        "colab": {
          "base_uri": "https://localhost:8080/",
          "height": 35
        }
      },
      "cell_type": "code",
      "source": [
        "!ls"
      ],
      "execution_count": 0,
      "outputs": [
        {
          "output_type": "stream",
          "text": [
            "mp3.zip.001  mp3.zip.002  mp3.zip.003  sample_data\n"
          ],
          "name": "stdout"
        }
      ]
    },
    {
      "metadata": {
        "id": "eCn4dOJCcuhg",
        "colab_type": "text"
      },
      "cell_type": "markdown",
      "source": [
        "Combining all the three zip files into one zip file \"mp3_all.zip\""
      ]
    },
    {
      "metadata": {
        "id": "3mVN1cAIIFHK",
        "colab_type": "code",
        "colab": {}
      },
      "cell_type": "code",
      "source": [
        "!cat mp3.zip.* > mp3_all.zip"
      ],
      "execution_count": 0,
      "outputs": []
    },
    {
      "metadata": {
        "id": "lFK7tB9nPuyI",
        "colab_type": "code",
        "outputId": "2f418766-922e-4838-e96d-2a225b6b14c3",
        "colab": {
          "base_uri": "https://localhost:8080/",
          "height": 35
        }
      },
      "cell_type": "code",
      "source": [
        "!ls"
      ],
      "execution_count": 0,
      "outputs": [
        {
          "output_type": "stream",
          "text": [
            "mp3_all.zip  mp3.zip.001  mp3.zip.002  mp3.zip.003  sample_data\n"
          ],
          "name": "stdout"
        }
      ]
    },
    {
      "metadata": {
        "id": "47Sg2lljc-7r",
        "colab_type": "text"
      },
      "cell_type": "markdown",
      "source": [
        "Unzipping the \"mp3_all.zip\" file in the root directory."
      ]
    },
    {
      "metadata": {
        "id": "xKn3L1BVIFYV",
        "colab_type": "code",
        "colab": {}
      },
      "cell_type": "code",
      "source": [
        "!unzip mp3_all.zip"
      ],
      "execution_count": 0,
      "outputs": []
    },
    {
      "metadata": {
        "id": "rdTFJ96qIFQT",
        "colab_type": "code",
        "outputId": "e2ffea50-f318-47e6-cf9a-bc81c1774b09",
        "colab": {
          "base_uri": "https://localhost:8080/",
          "height": 54
        }
      },
      "cell_type": "code",
      "source": [
        "!ls"
      ],
      "execution_count": 0,
      "outputs": [
        {
          "output_type": "stream",
          "text": [
            "0  2  4  6  8  a  c  e\tmp3_all.zip  mp3.zip.002  sample_data\n",
            "1  3  5  7  9  b  d  f\tmp3.zip.001  mp3.zip.003\n"
          ],
          "name": "stdout"
        }
      ]
    },
    {
      "metadata": {
        "id": "IYx4p46jdHUB",
        "colab_type": "text"
      },
      "cell_type": "markdown",
      "source": [
        "Downloading the \"annotations_final.csv\" files contating the labels for each mp3 audio. Each audio file has 160 tags associated."
      ]
    },
    {
      "metadata": {
        "id": "K0E-c-pjIFOQ",
        "colab_type": "code",
        "outputId": "1deaac89-0275-4498-8929-50b93f8c28e8",
        "colab": {
          "base_uri": "https://localhost:8080/",
          "height": 308
        }
      },
      "cell_type": "code",
      "source": [
        "!wget http://mi.soi.city.ac.uk/datasets/magnatagatune/annotations_final.csv"
      ],
      "execution_count": 0,
      "outputs": [
        {
          "output_type": "stream",
          "text": [
            "--2019-01-30 05:38:50--  http://mi.soi.city.ac.uk/datasets/magnatagatune/annotations_final.csv\n",
            "Resolving mi.soi.city.ac.uk (mi.soi.city.ac.uk)... 138.40.77.76\n",
            "Connecting to mi.soi.city.ac.uk (mi.soi.city.ac.uk)|138.40.77.76|:80... connected.\n",
            "HTTP request sent, awaiting response... 301 Moved Permanently\n",
            "Location: http://mirg.city.ac.uk/datasets/magnatagatune/annotations_final.csv [following]\n",
            "--2019-01-30 05:38:51--  http://mirg.city.ac.uk/datasets/magnatagatune/annotations_final.csv\n",
            "Resolving mirg.city.ac.uk (mirg.city.ac.uk)... 138.40.249.100\n",
            "Connecting to mirg.city.ac.uk (mirg.city.ac.uk)|138.40.249.100|:80... connected.\n",
            "HTTP request sent, awaiting response... 200 OK\n",
            "Length: 21517373 (21M) [text/csv]\n",
            "Saving to: ‘annotations_final.csv’\n",
            "\n",
            "annotations_final.c 100%[===================>]  20.52M  6.52MB/s    in 3.1s    \n",
            "\n",
            "2019-01-30 05:38:54 (6.52 MB/s) - ‘annotations_final.csv’ saved [21517373/21517373]\n",
            "\n"
          ],
          "name": "stdout"
        }
      ]
    },
    {
      "metadata": {
        "id": "5fzCRR_lIFLz",
        "colab_type": "code",
        "outputId": "dce182b4-1acc-41f5-ff15-6e7f607dc8e8",
        "colab": {
          "base_uri": "https://localhost:8080/",
          "height": 72
        }
      },
      "cell_type": "code",
      "source": [
        "!ls"
      ],
      "execution_count": 0,
      "outputs": [
        {
          "output_type": "stream",
          "text": [
            "0  3  6  9\t\t\tb  e\t\tmp3.zip.001  sample_data\n",
            "1  4  7  a\t\t\tc  f\t\tmp3.zip.002\n",
            "2  5  8  annotations_final.csv\td  mp3_all.zip\tmp3.zip.003\n"
          ],
          "name": "stdout"
        }
      ]
    },
    {
      "metadata": {
        "id": "k298DM4ceEYn",
        "colab_type": "text"
      },
      "cell_type": "markdown",
      "source": [
        "# Visualizing Dataset - Source: https://github.com/keunwoochoi/magnatagatune-list"
      ]
    },
    {
      "metadata": {
        "id": "pOuDFEwUeIms",
        "colab_type": "text"
      },
      "cell_type": "markdown",
      "source": [
        "16 folders, '0' to '9' and then 'a' to 'f'."
      ]
    },
    {
      "metadata": {
        "id": "xc3QpHMhea1q",
        "colab_type": "text"
      },
      "cell_type": "markdown",
      "source": [
        "**Tags (sorted by popularity)**"
      ]
    },
    {
      "metadata": {
        "id": "pkdh9r3Uemc0",
        "colab_type": "text"
      },
      "cell_type": "markdown",
      "source": [
        "**Top 50**\n",
        "\n",
        "guitar, classical, slow, techno, strings, drums, electronic, rock, fast, piano, ambient, beat, violin, vocal, synth, female, indian, opera, male, singing, vocals, no vocals, harpsichord, loud, quiet, flute, woman, male vocal, no vocal, pop, soft, sitar, solo, man, classic, choir, voice, new age, dance, male voice, female vocal, beats, harp, cello, no voice, weird, country, metal, female voice, choral"
      ]
    },
    {
      "metadata": {
        "id": "86y_HGTZes8b",
        "colab_type": "text"
      },
      "cell_type": "markdown",
      "source": [
        "**Top 50 by categories**\n",
        "\n",
        "**genre:** classical, techno, electronic, rock, indian, opera, pop, classic, new age, dance, country, metal\n",
        "\n",
        "**instrument:** guitar, strings, drums, piano, violin, vocal, synth, female, male, singing, vocals, no vocals, harpsichord, flute, no vocal, sitar, man, choir, voice, male voice, female vocal, harp, cello, femal voice, choral\n",
        "\n",
        "**mood:** slow, fast, ambient, loud, quiet, soft, weird\n",
        "\n",
        "**etc:** beat, solo, beats"
      ]
    },
    {
      "metadata": {
        "id": "Yh8ejCpye9sS",
        "colab_type": "text"
      },
      "cell_type": "markdown",
      "source": [
        "**Top 51-188**\n",
        "\n",
        "electro, drum, male vocals, jazz, violins, eastern, female vocals, instrumental, bass, modern, no piano, harpsicord, jazzy, string, baroque, foreign, orchestra, hard rock, electric, trance, folk, chorus, chant, voices, classical guitar, spanish, heavy, upbeat, no guitar, acoustic, male singer, electric guitar, electronica, oriental, funky, tribal, banjo, dark, medieval, man singing, organ, blues, irish, no singing, bells, percussion, no drums, woman singing, noise, spacey, singer, female singer, middle eastern, chanting, no flute, low, strange, calm, wind, lute, heavy metal, different, punk, oboe, celtic, sax, flutes, talking, women, arabic, hard, mellow, funk, fast beat, house, rap, not english, no violin, fiddle, female opera, water, india, guitars, no beat, chimes, drone, male opera, trumpet, duet, birds, industrial, sad, plucking, girl, silence, men, operatic, horns, repetitive, airy, world, eerie, deep, hip hop, space, light, keyboard, english, not opera, not classical, not rock, clapping, horn, acoustic guitar, disco, orchestral, no strings, old, echo, lol, soft rock, no singer, jungle, bongos, reggae, monks, clarinet, scary, synthesizer, female singing, piano solo, no voices, woodwind, happy, viola, soprano, quick, clasical"
      ]
    },
    {
      "metadata": {
        "id": "3s7MLwUbfEIo",
        "colab_type": "text"
      },
      "cell_type": "markdown",
      "source": [
        "**histogram of tags**\n",
        "\n",
        "So the dataset is unbalanced.\n",
        "\n",
        "\n",
        "\n",
        "---\n",
        "\n",
        "![alt text](https://github.com/keunwoochoi/magnatagatune-list/blob/master/tags_histogram.png?raw=true)"
      ]
    },
    {
      "metadata": {
        "id": "_OJU5JPXGTLN",
        "colab_type": "text"
      },
      "cell_type": "markdown",
      "source": [
        "# Importing Libraries"
      ]
    },
    {
      "metadata": {
        "id": "AuGoHR8pGC5J",
        "colab_type": "code",
        "colab": {}
      },
      "cell_type": "code",
      "source": [
        "import pandas as pd\n",
        "import numpy as np\n",
        "import os\n",
        "import shutil\n",
        "import librosa\n",
        "import time"
      ],
      "execution_count": 0,
      "outputs": []
    },
    {
      "metadata": {
        "id": "4nsvfeoYGX6z",
        "colab_type": "text"
      },
      "cell_type": "markdown",
      "source": [
        "# Audio Preprocessing - Converting audio files into .npy files"
      ]
    },
    {
      "metadata": {
        "id": "y7DGoSE8H8i8",
        "colab_type": "code",
        "colab": {}
      },
      "cell_type": "code",
      "source": [
        "list_data = []\n",
        "savename = \"file-duration29.npy\""
      ],
      "execution_count": 0,
      "outputs": []
    },
    {
      "metadata": {
        "id": "L_p2jfBZg6-8",
        "colab_type": "text"
      },
      "cell_type": "markdown",
      "source": [
        "**Sampling Rate = 2108**\n",
        "\n",
        "The code is similar to the previous github notebook shared. Please refer to that notebook for more details.\n",
        "\n",
        "In short, each and every audio is converted to a (1, 61394) feature vector.\n",
        "\n",
        "This step will take time. For me, it took around 6 hours on Google Colab."
      ]
    },
    {
      "metadata": {
        "id": "BmXoQhrJIYQN",
        "colab_type": "code",
        "colab": {}
      },
      "cell_type": "code",
      "source": [
        "start = time.time()\n",
        "\n",
        "counter = 0\n",
        "\n",
        "for index, row in clip_address.iterrows() :\n",
        "  path = '/content/' + row['mp3_path']\n",
        "  wavedata, samplerate = librosa.load(path, sr=2108)\n",
        "  wavedata = wavedata[np.newaxis, :]\n",
        "  list_data.append(wavedata)\n",
        "  \n",
        "  if counter%250 == 0:\n",
        "    print(counter)\n",
        "  counter = counter + 1\n",
        "  \n",
        "np.save(\"list_data-\" + savename, list_data)\n",
        "print(time.time() - start)"
      ],
      "execution_count": 0,
      "outputs": []
    },
    {
      "metadata": {
        "id": "p8Oqqodqhb3J",
        "colab_type": "text"
      },
      "cell_type": "markdown",
      "source": [
        "Length of list_data = (25863, 1, 61394)"
      ]
    },
    {
      "metadata": {
        "id": "xi2ur7dgIDRW",
        "colab_type": "code",
        "colab": {}
      },
      "cell_type": "code",
      "source": [
        "len(list_data)"
      ],
      "execution_count": 0,
      "outputs": []
    },
    {
      "metadata": {
        "id": "SuPmFbhpNicm",
        "colab_type": "code",
        "outputId": "a8bb4905-14de-4989-b0e7-d759ef1cc804",
        "colab": {
          "base_uri": "https://localhost:8080/",
          "height": 90
        }
      },
      "cell_type": "code",
      "source": [
        "!ls"
      ],
      "execution_count": 0,
      "outputs": [
        {
          "output_type": "stream",
          "text": [
            "0  4  8\t\t\t     b\tf\t\t\t       mp3.zip.002\n",
            "1  5  9\t\t\t     c\tlist_data-file-duration29.npy  mp3.zip.003\n",
            "2  6  a\t\t\t     d\tmp3_all.zip\t\t       sample_data\n",
            "3  7  annotations_final.csv  e\tmp3.zip.001\n"
          ],
          "name": "stdout"
        }
      ]
    },
    {
      "metadata": {
        "id": "S1xRjSJBhjxr",
        "colab_type": "text"
      },
      "cell_type": "markdown",
      "source": [
        "Size of the file : around 6 GB"
      ]
    },
    {
      "metadata": {
        "id": "dH1WzaTiPigb",
        "colab_type": "code",
        "colab": {}
      },
      "cell_type": "code",
      "source": [
        "os.path.getsize('/content/list_data-file-duration29.npy') >> 20"
      ],
      "execution_count": 0,
      "outputs": []
    },
    {
      "metadata": {
        "id": "eSuE3tkWhosW",
        "colab_type": "text"
      },
      "cell_type": "markdown",
      "source": [
        "# Uploading file to Google Drive for future use."
      ]
    },
    {
      "metadata": {
        "id": "jcvwwsRKPvKf",
        "colab_type": "code",
        "colab": {}
      },
      "cell_type": "code",
      "source": [
        "# Install the PyDrive wrapper & import libraries.\n",
        "# This only needs to be done once in a notebook.\n",
        "!pip install -U -q PyDrive\n",
        "from pydrive.auth import GoogleAuth\n",
        "from pydrive.drive import GoogleDrive\n",
        "from google.colab import auth\n",
        "from oauth2client.client import GoogleCredentials"
      ],
      "execution_count": 0,
      "outputs": []
    },
    {
      "metadata": {
        "id": "tpoyuTnFQflS",
        "colab_type": "code",
        "colab": {}
      },
      "cell_type": "code",
      "source": [
        "# Authenticate and create the PyDrive client.\n",
        "# This only needs to be done once in a notebook.\n",
        "auth.authenticate_user()\n",
        "gauth = GoogleAuth()\n",
        "gauth.credentials = GoogleCredentials.get_application_default()\n",
        "drive = GoogleDrive(gauth)"
      ],
      "execution_count": 0,
      "outputs": []
    },
    {
      "metadata": {
        "id": "qnygepjYQkCQ",
        "colab_type": "code",
        "outputId": "e7598185-043a-4f76-fa7b-ed8d967bf087",
        "colab": {
          "base_uri": "https://localhost:8080/",
          "height": 35
        }
      },
      "cell_type": "code",
      "source": [
        "# Create & upload a file.\n",
        "uploaded = drive.CreateFile({'title': 'list_data-file-duration29.npy'})\n",
        "uploaded.SetContentFile('list_data-file-duration29.npy')\n",
        "uploaded.Upload()\n",
        "print('Uploaded file with ID {}'.format(uploaded.get('id')))"
      ],
      "execution_count": 0,
      "outputs": [
        {
          "output_type": "stream",
          "text": [
            "Uploaded file with ID 1y3S1mYaB3kygbvhe_sqN0OZqwe6ANmaj\n"
          ],
          "name": "stdout"
        }
      ]
    }
  ]
}