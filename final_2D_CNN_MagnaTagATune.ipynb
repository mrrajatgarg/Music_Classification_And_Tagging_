{
  "nbformat": 4,
  "nbformat_minor": 0,
  "metadata": {
    "colab": {
      "name": "final_2D_CNN_MagnaTagATune.ipynb",
      "version": "0.3.2",
      "provenance": [],
      "include_colab_link": true
    },
    "kernelspec": {
      "name": "python3",
      "display_name": "Python 3"
    },
    "accelerator": "GPU"
  },
  "cells": [
    {
      "cell_type": "markdown",
      "metadata": {
        "id": "view-in-github",
        "colab_type": "text"
      },
      "source": [
        "<a href=\"https://colab.research.google.com/github/mrrajatgarg/Music_Classification_And_Tagging_/blob/master/final_2D_CNN_MagnaTagATune.ipynb\" target=\"_parent\"><img src=\"https://colab.research.google.com/assets/colab-badge.svg\" alt=\"Open In Colab\"/></a>"
      ]
    },
    {
      "metadata": {
        "id": "JtAH5XqjMtvy",
        "colab_type": "code",
        "outputId": "28fa999b-1c03-480a-ce75-415cae7e88e4",
        "colab": {
          "base_uri": "https://localhost:8080/",
          "height": 34
        }
      },
      "cell_type": "code",
      "source": [
        "from google.colab import drive\n",
        "drive.mount('/content/drive')"
      ],
      "execution_count": 0,
      "outputs": [
        {
          "output_type": "stream",
          "text": [
            "Drive already mounted at /content/drive; to attempt to forcibly remount, call drive.mount(\"/content/drive\", force_remount=True).\n"
          ],
          "name": "stdout"
        }
      ]
    },
    {
      "metadata": {
        "id": "gYsfg1BpM38o",
        "colab_type": "code",
        "colab": {}
      },
      "cell_type": "code",
      "source": [
        "import os\n",
        "os.chdir('/content/drive/My Drive')"
      ],
      "execution_count": 0,
      "outputs": []
    },
    {
      "metadata": {
        "id": "HXGFXmXhM7lC",
        "colab_type": "code",
        "outputId": "d49d1297-f452-432b-e02e-8534aeba2728",
        "colab": {
          "base_uri": "https://localhost:8080/",
          "height": 1649
        }
      },
      "cell_type": "code",
      "source": [
        "!ls"
      ],
      "execution_count": 0,
      "outputs": [
        {
          "output_type": "stream",
          "text": [
            "'all_images (1).zip'\n",
            " all_images.zip\n",
            " birds.zip\n",
            " catVsdogLogisticRegression.ipynb\n",
            " coco.zip\n",
            "'Colab Notebooks'\n",
            " converting_to_final_y_train_val-test.ipynb\n",
            " cub.tar.gz\n",
            " current_2d_cnn_model.ipynb\n",
            " data_clip_id_melgram.zip\n",
            " dataset_clip_id_melgram_1.zip\n",
            " dataset_clip_id_melgram_2.zip\n",
            " dataset_clip_id_melgram_3.zip\n",
            " dataset_clip_id_melgram_4.zip\n",
            " dataset_clip_id_melgram_5.zip\n",
            " dataset_clip_id_melgram.zip\n",
            " dataset_clip_id_mp3.zip\n",
            " dataset.zip\n",
            " Digit_Recognizer_Kaggle.ipynb\n",
            " dogsvscatsCNN_final.ipynb\n",
            " electrical_classification_model.h5\n",
            " electrical_classification_model.ipynb\n",
            " filename.csv\n",
            "'filenames (1).npy'\n",
            " filenames.npy\n",
            "'filenames_shuffled (1).npy'\n",
            " filenames_shuffled.npy\n",
            " final_Dataframe.pkl\n",
            " final_dataset.zip\n",
            " final_final_Dataframe.pkl\n",
            " Final_Rajat_MagnaTagATune_Dataset_Preparation_1.ipynb\n",
            " final_testing_data_51.pkl\n",
            " final_training_data_51.pkl\n",
            " final_train.npy\n",
            " final_validation_data_51.pkl\n",
            " final_y_test.pkl\n",
            "'final_y_train (1).pkl'\n",
            " final_y_train.pkl\n",
            "'final_y_val (1).pkl'\n",
            " final_y_val.pkl\n",
            " Hackathon_Sign_Language_to_Speech_video3.mp4\n",
            " index.mp4\n",
            " MagnaTagATune_Dataset_Train_Val_Test_Split.ipynb\n",
            " model_after_10_epochs.h5\n",
            " model_after_20_epochs.h5\n",
            " model_after_47_epochs.h5\n",
            " model_dropout_after_10_epochs.h5\n",
            " model_dropout_after_20_epochs.h5\n",
            " model_dropout_after_30_epochs.h5\n",
            "'New folder'\n",
            " new_model_saved\n",
            "'New Text Document (4).txt'\n",
            "'New Text Document (4).txt.gdoc'\n",
            " PokemonGAN.ipynb\n",
            " saved_models\n",
            " script_to_run_2dcnn_model.ipynb\n",
            " stackgan_implementation.ipynb\n",
            " stage1_dis.h5\n",
            " stage1_gen.h5\n",
            " testing_data_final_51_values.pkl\n",
            " testing_files_names_final_2.npy\n",
            " testing_files_names_final.npy\n",
            " testing_labels_final.npy\n",
            " testing.zip\n",
            " test_x.npy\n",
            " ThermoFisher.gsheet\n",
            " ThermoFisher.xlsx\n",
            " training_data_final_51_values.pkl\n",
            " training_files_names_final_2.npy\n",
            " training_files_names_final.npy\n",
            " training_labels_final_2.npy\n",
            " training_labels_final.npy\n",
            " training_on_large_dataset.ipynb\n",
            " train_x_1_1.npy\n",
            " train_x_2_2.npy\n",
            " train_x_3_3.npy\n",
            " train_x_4_4.npy\n",
            " train_x_5_5.npy\n",
            " Understanding_Audio_Data.ipynb\n",
            " Untitled0.ipynb\n",
            " Untitled1.ipynb\n",
            " Untitled2.ipynb\n",
            " validation_data_final_51_values.pkl\n",
            " validation_files_names_final_2.npy\n",
            " validation_files_names_final.npy\n",
            " validation_labels_final_2.npy\n",
            " validation_labels_final.npy\n",
            " valid_x.npy\n",
            "'weights-improvement-10-0.94 (1).hdf5'\n",
            " weights-improvement-10-0.94.hdf5\n",
            " weights-improvement-3-01-0.94.hdf5\n",
            " WPTFeatures254_FaultStates_classnumer.xlsx\n",
            "'y_labels_one_hot (1).npy'\n",
            " y_labels_one_hot.npy\n",
            "'y_labels_one_hot_shuffled (1).npy'\n",
            " y_labels_one_hot_shuffled.npy\n"
          ],
          "name": "stdout"
        }
      ]
    },
    {
      "metadata": {
        "id": "F6LZosYbNP2r",
        "colab_type": "text"
      },
      "cell_type": "markdown",
      "source": [
        "# Importing Libraries"
      ]
    },
    {
      "metadata": {
        "id": "JfNvuimiNO15",
        "colab_type": "code",
        "colab": {}
      },
      "cell_type": "code",
      "source": [
        "import numpy as np\n",
        "import pandas as pd\n",
        "\n",
        "from skimage.io import imread\n",
        "from skimage.transform import resize\n",
        "\n",
        "import tensorflow as tf\n",
        "from keras import backend as K"
      ],
      "execution_count": 0,
      "outputs": []
    },
    {
      "metadata": {
        "id": "Pk9Z3nJCNVEq",
        "colab_type": "code",
        "colab": {}
      },
      "cell_type": "code",
      "source": [
        "import keras\n",
        "from keras.models import Sequential, Model, load_model\n",
        "from keras.layers import Input, Conv1D, Conv2D, MaxPooling1D, MaxPooling2D, Dense, Dropout, Activation, Flatten\n",
        "from keras.layers.normalization import BatchNormalization\n",
        "from keras.optimizers import SGD\n",
        "from keras.utils import to_categorical\n",
        "\n",
        "from keras.callbacks import ModelCheckpoint\n",
        "\n",
        "import kapre\n",
        "from kapre.time_frequency import Melspectrogram\n",
        "from kapre.utils import Normalization2D"
      ],
      "execution_count": 0,
      "outputs": []
    },
    {
      "metadata": {
        "id": "NVnvkGUtNY8v",
        "colab_type": "code",
        "colab": {}
      },
      "cell_type": "code",
      "source": [
        "from sklearn.metrics import roc_auc_score\n",
        "from keras.callbacks import Callback"
      ],
      "execution_count": 0,
      "outputs": []
    },
    {
      "metadata": {
        "id": "BBHs9tz3TNyp",
        "colab_type": "text"
      },
      "cell_type": "markdown",
      "source": [
        "# Importing dataset"
      ]
    },
    {
      "metadata": {
        "id": "JtfkmhKOTQ3d",
        "colab_type": "code",
        "colab": {}
      },
      "cell_type": "code",
      "source": [
        "import zipfile\n",
        "zip_ref = zipfile.ZipFile('/content/drive/My Drive/dataset_clip_id_melgram.zip', 'r')\n",
        "zip_ref.extractall('/content/')\n",
        "zip_ref.close()"
      ],
      "execution_count": 0,
      "outputs": []
    },
    {
      "metadata": {
        "id": "gmu5FD0ZTVQF",
        "colab_type": "code",
        "outputId": "e9a1b117-6598-4932-9b63-b106bc48b787",
        "colab": {
          "base_uri": "https://localhost:8080/",
          "height": 34
        }
      },
      "cell_type": "code",
      "source": [
        "input_shape = (96, 1366, 1)\n",
        "print(input_shape)"
      ],
      "execution_count": 0,
      "outputs": [
        {
          "output_type": "stream",
          "text": [
            "(96, 1366, 1)\n"
          ],
          "name": "stdout"
        }
      ]
    },
    {
      "metadata": {
        "id": "gXVqiUMMTZZe",
        "colab_type": "code",
        "colab": {}
      },
      "cell_type": "code",
      "source": [
        "#y_val = np.load('/content/drive/My Drive/final_y_val.pkl')\n",
        "\n",
        "training_file_path = np.load('/content/drive/My Drive/training_files_names_final_2.npy')\n",
        "y_train_numpy = np.load('/content/drive/My Drive/training_labels_final_2.npy')\n",
        "\n",
        "validation_file_path = np.load('/content/drive/My Drive/validation_files_names_final_2.npy')\n",
        "y_val_numpy = np.load('/content/drive/My Drive/validation_labels_final_2.npy')\n",
        "\n",
        "testing_file_path = np.load('/content/drive/My Drive/testing_files_names_final_2.npy')\n",
        "y_test_numpy = np.load('/content/drive/My Drive/testing_labels_final_2.npy')"
      ],
      "execution_count": 0,
      "outputs": []
    },
    {
      "metadata": {
        "id": "zgI30PMThIpj",
        "colab_type": "code",
        "outputId": "61c14e39-eedd-4360-f1ae-ee1c60087ccc",
        "colab": {
          "base_uri": "https://localhost:8080/",
          "height": 119
        }
      },
      "cell_type": "code",
      "source": [
        "print(training_file_path.shape)\n",
        "print(y_train_numpy.shape)\n",
        "\n",
        "print(validation_file_path.shape)\n",
        "print(y_val_numpy.shape)\n",
        "\n",
        "print(testing_file_path.shape)\n",
        "print(y_test_numpy.shape)"
      ],
      "execution_count": 0,
      "outputs": [
        {
          "output_type": "stream",
          "text": [
            "(18706,)\n",
            "(18706, 50)\n",
            "(1825,)\n",
            "(1825, 50)\n",
            "(5329,)\n",
            "(5329, 50)\n"
          ],
          "name": "stdout"
        }
      ]
    },
    {
      "metadata": {
        "id": "DqjOKxXhbSKA",
        "colab_type": "text"
      },
      "cell_type": "markdown",
      "source": [
        "# Testing from things -- delete after testing"
      ]
    },
    {
      "metadata": {
        "id": "gTd9KtGRalqU",
        "colab_type": "code",
        "outputId": "6f5d5382-a5f6-4eae-992e-976fc1865eda",
        "colab": {
          "base_uri": "https://localhost:8080/",
          "height": 51
        }
      },
      "cell_type": "code",
      "source": [
        "training_file_path[0:10]"
      ],
      "execution_count": 0,
      "outputs": [
        {
          "output_type": "execute_result",
          "data": {
            "text/plain": [
              "array([ 3642, 40434, 11746, 28669, 56563, 26289, 55637, 12796, 56111,\n",
              "       11209])"
            ]
          },
          "metadata": {
            "tags": []
          },
          "execution_count": 21
        }
      ]
    },
    {
      "metadata": {
        "id": "ns7JeWQmbIqw",
        "colab_type": "code",
        "colab": {}
      },
      "cell_type": "code",
      "source": [
        "batch_x_final = np.zeros((0, 96, 1366, 1))\n",
        "for filename in training_file_path[0:10]:\n",
        "          full_path = '/content/'+str(filename)+'.npy'\n",
        "          this_array = np.load(full_path).reshape(1, 96, 1366, 1)\n",
        "          batch_x_final = np.concatenate((batch_x_final, this_array), axis=0)"
      ],
      "execution_count": 0,
      "outputs": []
    },
    {
      "metadata": {
        "id": "XWDVbCMRbRCz",
        "colab_type": "code",
        "outputId": "ef894f81-a337-401f-e055-473c9bc8d8fa",
        "colab": {
          "base_uri": "https://localhost:8080/",
          "height": 34
        }
      },
      "cell_type": "code",
      "source": [
        "print(batch_x_final.shape)"
      ],
      "execution_count": 0,
      "outputs": [
        {
          "output_type": "stream",
          "text": [
            "(10, 96, 1366, 1)\n"
          ],
          "name": "stdout"
        }
      ]
    },
    {
      "metadata": {
        "id": "Frm14x0WbRGK",
        "colab_type": "code",
        "colab": {}
      },
      "cell_type": "code",
      "source": [
        "print(batch_x_final[0])"
      ],
      "execution_count": 0,
      "outputs": []
    },
    {
      "metadata": {
        "id": "38oB1VpjbRKf",
        "colab_type": "code",
        "colab": {}
      },
      "cell_type": "code",
      "source": [
        ""
      ],
      "execution_count": 0,
      "outputs": []
    },
    {
      "metadata": {
        "id": "TQUxPBv2hKSx",
        "colab_type": "text"
      },
      "cell_type": "markdown",
      "source": [
        "# For checkpointing of model"
      ]
    },
    {
      "metadata": {
        "id": "niZHTLpRJJrA",
        "colab_type": "code",
        "colab": {}
      },
      "cell_type": "code",
      "source": [
        "os.chdir('/content/')\n",
        "\n",
        "!mkdir new_model_saved"
      ],
      "execution_count": 0,
      "outputs": []
    },
    {
      "metadata": {
        "id": "gd2k0fO8JCz2",
        "colab_type": "code",
        "colab": {}
      },
      "cell_type": "code",
      "source": [
        "#!mkdir saved_models_3"
      ],
      "execution_count": 0,
      "outputs": []
    },
    {
      "metadata": {
        "id": "69m6ksgejs74",
        "colab_type": "code",
        "colab": {}
      },
      "cell_type": "code",
      "source": [
        "os.chdir('/content/new_model_saved/')"
      ],
      "execution_count": 0,
      "outputs": []
    },
    {
      "metadata": {
        "id": "noVbPSCdhNXK",
        "colab_type": "code",
        "colab": {}
      },
      "cell_type": "code",
      "source": [
        "filepath='weights-improvement-4-{epoch:02d}-{val_acc:.2f}.hdf5'"
      ],
      "execution_count": 0,
      "outputs": []
    },
    {
      "metadata": {
        "id": "gkX5ts_XhNTe",
        "colab_type": "code",
        "colab": {}
      },
      "cell_type": "code",
      "source": [
        "checkpoint = ModelCheckpoint(filepath, verbose=1)"
      ],
      "execution_count": 0,
      "outputs": []
    },
    {
      "metadata": {
        "id": "KRsZ5ax2Nb79",
        "colab_type": "text"
      },
      "cell_type": "markdown",
      "source": [
        "# Designing Model"
      ]
    },
    {
      "metadata": {
        "id": "rls4Sez-aKFW",
        "colab_type": "code",
        "colab": {}
      },
      "cell_type": "code",
      "source": [
        "def auc(y_true, y_pred):\n",
        "    auc = tf.metrics.auc(y_true, y_pred)[1]\n",
        "    K.get_session().run(tf.local_variables_initializer())\n",
        "    return auc"
      ],
      "execution_count": 0,
      "outputs": []
    },
    {
      "metadata": {
        "id": "6mZSrUP4YBgs",
        "colab_type": "code",
        "outputId": "fe825007-789b-4145-8b28-aca23b5f3a4d",
        "colab": {
          "base_uri": "https://localhost:8080/",
          "height": 241
        }
      },
      "cell_type": "code",
      "source": [
        "model = Sequential()\n",
        "\n",
        "# Layer 1\n",
        "model.add(Conv2D(128, (3, 3), padding='same', input_shape=input_shape))\n",
        "model.add(BatchNormalization())\n",
        "model.add(Activation('relu'))\n",
        "model.add(MaxPooling2D(pool_size=(2, 4))) \n",
        "model.add(Dropout(0.5))\n",
        "\n",
        "# Layer 2\n",
        "model.add(Conv2D(384, (3, 3), padding='same'))\n",
        "model.add(BatchNormalization())\n",
        "model.add(Activation('relu'))\n",
        "model.add(MaxPooling2D(pool_size=(4, 5))) \n",
        "model.add(Dropout(0.5))\n",
        "\n",
        "model.add(Conv2D(768, (3,3), padding='same'))\n",
        "model.add(BatchNormalization())\n",
        "model.add(Activation('relu'))\n",
        "model.add(MaxPooling2D(pool_size=(3,8)))\n",
        "model.add(Dropout(0.5))\n",
        "          \n",
        "model.add(Conv2D(2048, (3,3), padding='same'))\n",
        "model.add(BatchNormalization())\n",
        "model.add(Activation('relu'))\n",
        "model.add(MaxPooling2D(4, 8))\n",
        "model.add(Dropout(0.5))\n",
        "model.add(Flatten())\n",
        "\n",
        "#model.add(Dense(100, activation='relu')) \n",
        "# model.add(BatchNormalization())\n",
        "model.add(Dense(50,activation='sigmoid'))\n",
        "\n",
        "model.compile(loss='binary_crossentropy' , optimizer='adam' , metrics=['accuracy', auc])"
      ],
      "execution_count": 0,
      "outputs": [
        {
          "output_type": "stream",
          "text": [
            "WARNING:tensorflow:From /usr/local/lib/python3.6/dist-packages/tensorflow/python/framework/op_def_library.py:263: colocate_with (from tensorflow.python.framework.ops) is deprecated and will be removed in a future version.\n",
            "Instructions for updating:\n",
            "Colocations handled automatically by placer.\n",
            "WARNING:tensorflow:From /usr/local/lib/python3.6/dist-packages/keras/backend/tensorflow_backend.py:3445: calling dropout (from tensorflow.python.ops.nn_ops) with keep_prob is deprecated and will be removed in a future version.\n",
            "Instructions for updating:\n",
            "Please use `rate` instead of `keep_prob`. Rate should be set to `rate = 1 - keep_prob`.\n",
            "WARNING:tensorflow:From /usr/local/lib/python3.6/dist-packages/tensorflow/python/ops/metrics_impl.py:526: to_float (from tensorflow.python.ops.math_ops) is deprecated and will be removed in a future version.\n",
            "Instructions for updating:\n",
            "Use tf.cast instead.\n",
            "WARNING:tensorflow:From /usr/local/lib/python3.6/dist-packages/tensorflow/python/ops/metrics_impl.py:788: div (from tensorflow.python.ops.math_ops) is deprecated and will be removed in a future version.\n",
            "Instructions for updating:\n",
            "Deprecated in favor of operator or tf.math.divide.\n"
          ],
          "name": "stdout"
        }
      ]
    },
    {
      "metadata": {
        "id": "oI_5_ZovvTTy",
        "colab_type": "code",
        "outputId": "4c8e5610-0287-49c8-eb4a-d39ef6d79477",
        "colab": {
          "base_uri": "https://localhost:8080/",
          "height": 884
        }
      },
      "cell_type": "code",
      "source": [
        "model.summary()"
      ],
      "execution_count": 0,
      "outputs": [
        {
          "output_type": "stream",
          "text": [
            "_________________________________________________________________\n",
            "Layer (type)                 Output Shape              Param #   \n",
            "=================================================================\n",
            "conv2d_1 (Conv2D)            (None, 96, 1366, 128)     1280      \n",
            "_________________________________________________________________\n",
            "batch_normalization_1 (Batch (None, 96, 1366, 128)     512       \n",
            "_________________________________________________________________\n",
            "activation_1 (Activation)    (None, 96, 1366, 128)     0         \n",
            "_________________________________________________________________\n",
            "max_pooling2d_1 (MaxPooling2 (None, 48, 341, 128)      0         \n",
            "_________________________________________________________________\n",
            "dropout_1 (Dropout)          (None, 48, 341, 128)      0         \n",
            "_________________________________________________________________\n",
            "conv2d_2 (Conv2D)            (None, 48, 341, 384)      442752    \n",
            "_________________________________________________________________\n",
            "batch_normalization_2 (Batch (None, 48, 341, 384)      1536      \n",
            "_________________________________________________________________\n",
            "activation_2 (Activation)    (None, 48, 341, 384)      0         \n",
            "_________________________________________________________________\n",
            "max_pooling2d_2 (MaxPooling2 (None, 12, 68, 384)       0         \n",
            "_________________________________________________________________\n",
            "dropout_2 (Dropout)          (None, 12, 68, 384)       0         \n",
            "_________________________________________________________________\n",
            "conv2d_3 (Conv2D)            (None, 12, 68, 768)       2654976   \n",
            "_________________________________________________________________\n",
            "batch_normalization_3 (Batch (None, 12, 68, 768)       3072      \n",
            "_________________________________________________________________\n",
            "activation_3 (Activation)    (None, 12, 68, 768)       0         \n",
            "_________________________________________________________________\n",
            "max_pooling2d_3 (MaxPooling2 (None, 4, 8, 768)         0         \n",
            "_________________________________________________________________\n",
            "dropout_3 (Dropout)          (None, 4, 8, 768)         0         \n",
            "_________________________________________________________________\n",
            "conv2d_4 (Conv2D)            (None, 4, 8, 2048)        14157824  \n",
            "_________________________________________________________________\n",
            "batch_normalization_4 (Batch (None, 4, 8, 2048)        8192      \n",
            "_________________________________________________________________\n",
            "activation_4 (Activation)    (None, 4, 8, 2048)        0         \n",
            "_________________________________________________________________\n",
            "max_pooling2d_4 (MaxPooling2 (None, 1, 1, 2048)        0         \n",
            "_________________________________________________________________\n",
            "dropout_4 (Dropout)          (None, 1, 1, 2048)        0         \n",
            "_________________________________________________________________\n",
            "flatten_1 (Flatten)          (None, 2048)              0         \n",
            "_________________________________________________________________\n",
            "dense_1 (Dense)              (None, 50)                102450    \n",
            "=================================================================\n",
            "Total params: 17,372,594\n",
            "Trainable params: 17,365,938\n",
            "Non-trainable params: 6,656\n",
            "_________________________________________________________________\n"
          ],
          "name": "stdout"
        }
      ]
    },
    {
      "metadata": {
        "id": "G8_9_ssIvWCR",
        "colab_type": "code",
        "colab": {}
      },
      "cell_type": "code",
      "source": [
        "class My_Generator(keras.utils.Sequence):\n",
        "\n",
        "    def __init__(self, image_filenames, labels, batch_size):\n",
        "        self.image_filenames, self.labels = image_filenames, labels\n",
        "        self.batch_size = batch_size\n",
        "\n",
        "    def __len__(self):\n",
        "        return (np.ceil(len(self.image_filenames) / float(self.batch_size))).astype(np.int)\n",
        "\n",
        "    def __getitem__(self, idx):\n",
        "        #print(self.batch_size)\n",
        "        batch_x = self.image_filenames[idx * self.batch_size:(idx + 1) * self.batch_size]\n",
        "        batch_y = self.labels[idx * self.batch_size:(idx + 1) * self.batch_size]\n",
        "        \n",
        "        #print(batch_y)\n",
        "        #batch_y = np.array(batch_y)\n",
        "        #print(batch_y)\n",
        "        batch_x_final = np.zeros((0, 96, 1366, 1))\n",
        "        for filename in batch_x:\n",
        "          full_path = '/content/'+str(filename)+'.npy'\n",
        "          this_array = np.load(full_path).reshape(1, 96, 1366, 1)\n",
        "          batch_x_final = np.concatenate((batch_x_final, this_array), axis=0)\n",
        "          \n",
        "        return np.array(batch_x_final), np.array(batch_y)\n",
        "        \n",
        "        #return np.array([\n",
        "         #   resize(imread('/content/'+file_name+'.npy'), (1366, 96, 1))\n",
        "          #    for file_name in batch_x]), np.array(batch_y)"
      ],
      "execution_count": 0,
      "outputs": []
    },
    {
      "metadata": {
        "id": "tjmkRl3YYNt-",
        "colab_type": "code",
        "colab": {}
      },
      "cell_type": "code",
      "source": [
        "class roc_callback(Callback):\n",
        "    def __init__(self, validation_batch_generator, y_validation_numpy):\n",
        "        self.my_validation_batch_generator = validation_batch_generator\n",
        "        self.y_val_numpy = y_validation_numpy\n",
        "\n",
        "    def on_train_begin(self, logs={}):\n",
        "        return\n",
        "\n",
        "    def on_train_end(self, logs={}):\n",
        "        return\n",
        "\n",
        "    def on_epoch_begin(self, epoch, logs={}):\n",
        "        return\n",
        "\n",
        "    def on_epoch_end(self, epoch, logs={}):\n",
        "        prediction_test = self.model.predict_generator(self.my_validation_batch_generator)\n",
        "        auc_roc_score = roc_auc_score(self.y_val_numpy, prediction_test)\n",
        "        print('\\r roc-auc score on validation data: ', auc_roc_score)\n",
        "        #print('\\rroc-auc: %s - roc-auc_val: %s' % (str(round(roc,4)),str(round(roc_val,4))),end=100*' '+'\\n')\n",
        "        return\n",
        "\n",
        "    def on_batch_begin(self, batch, logs={}):\n",
        "        return\n",
        "\n",
        "    def on_batch_end(self, batch, logs={}):\n",
        "        return"
      ],
      "execution_count": 0,
      "outputs": []
    },
    {
      "metadata": {
        "id": "1nmzKVY3wQVp",
        "colab_type": "code",
        "colab": {}
      },
      "cell_type": "code",
      "source": [
        "batch_size = 16"
      ],
      "execution_count": 0,
      "outputs": []
    },
    {
      "metadata": {
        "id": "IIFNxVx2wHxg",
        "colab_type": "code",
        "colab": {}
      },
      "cell_type": "code",
      "source": [
        "my_training_batch_generator = My_Generator(training_file_path, y_train_numpy, batch_size)\n",
        "my_validation_batch_generator = My_Generator(validation_file_path, y_val_numpy, batch_size)"
      ],
      "execution_count": 0,
      "outputs": []
    },
    {
      "metadata": {
        "id": "aII0dGdyYhgs",
        "colab_type": "code",
        "colab": {}
      },
      "cell_type": "code",
      "source": [
        "roc_callbacks = roc_callback(my_validation_batch_generator, y_val_numpy)"
      ],
      "execution_count": 0,
      "outputs": []
    },
    {
      "metadata": {
        "id": "lsXc_D_YwMX8",
        "colab_type": "code",
        "outputId": "f2daed89-2409-426b-8fd1-ba1f0f253c12",
        "colab": {
          "base_uri": "https://localhost:8080/",
          "height": 953
        }
      },
      "cell_type": "code",
      "source": [
        "model.fit_generator(generator=my_training_batch_generator,\n",
        "                   steps_per_epoch = int(18706 // batch_size),\n",
        "                   epochs = 10,\n",
        "                   verbose = 1,\n",
        "                   validation_data = my_validation_batch_generator,\n",
        "                   validation_steps = int(1285 // batch_size),\n",
        "                   callbacks = [roc_callbacks, checkpoint])"
      ],
      "execution_count": 0,
      "outputs": [
        {
          "output_type": "stream",
          "text": [
            "WARNING:tensorflow:From /usr/local/lib/python3.6/dist-packages/tensorflow/python/ops/math_ops.py:3066: to_int32 (from tensorflow.python.ops.math_ops) is deprecated and will be removed in a future version.\n",
            "Instructions for updating:\n",
            "Use tf.cast instead.\n",
            "Epoch 1/10\n",
            "1169/1169 [==============================] - 821s 702ms/step - loss: 0.2194 - acc: 0.9419 - auc: 0.7011 - val_loss: 0.1881 - val_acc: 0.9437 - val_auc: 0.7358\n",
            " roc-auc score on validation data:  0.7238592327806718\n",
            "\n",
            "Epoch 00001: saving model to weights-improvement-3-01-0.94.hdf5\n",
            "Epoch 2/10\n",
            "1169/1169 [==============================] - 809s 692ms/step - loss: 0.1972 - acc: 0.9433 - auc: 0.7501 - val_loss: 0.1792 - val_acc: 0.9444 - val_auc: 0.7620\n",
            " roc-auc score on validation data:  0.7556011535096218\n",
            "\n",
            "Epoch 00002: saving model to weights-improvement-3-02-0.94.hdf5\n",
            "Epoch 3/10\n",
            "1169/1169 [==============================] - 808s 691ms/step - loss: 0.1859 - acc: 0.9443 - auc: 0.7712 - val_loss: 0.1668 - val_acc: 0.9456 - val_auc: 0.7795\n",
            " roc-auc score on validation data:  0.778577555669122\n",
            "\n",
            "Epoch 00003: saving model to weights-improvement-3-03-0.95.hdf5\n",
            "Epoch 4/10\n",
            "1169/1169 [==============================] - 808s 691ms/step - loss: 0.1765 - acc: 0.9448 - auc: 0.7865 - val_loss: 0.1637 - val_acc: 0.9461 - val_auc: 0.7929\n",
            " roc-auc score on validation data:  0.7923548948294059\n",
            "\n",
            "Epoch 00004: saving model to weights-improvement-3-04-0.95.hdf5\n",
            "Epoch 5/10\n",
            "1169/1169 [==============================] - 809s 692ms/step - loss: 0.1677 - acc: 0.9457 - auc: 0.7985 - val_loss: 0.1585 - val_acc: 0.9468 - val_auc: 0.8040\n",
            " roc-auc score on validation data:  0.8130035878338084\n",
            "\n",
            "Epoch 00005: saving model to weights-improvement-3-05-0.95.hdf5\n",
            "Epoch 6/10\n",
            "1169/1169 [==============================] - 807s 691ms/step - loss: 0.1583 - acc: 0.9468 - auc: 0.8093 - val_loss: 0.1556 - val_acc: 0.9482 - val_auc: 0.8143\n",
            " roc-auc score on validation data:  0.8259796959453917\n",
            "\n",
            "Epoch 00006: saving model to weights-improvement-3-06-0.95.hdf5\n",
            "Epoch 7/10\n",
            "1169/1169 [==============================] - 806s 689ms/step - loss: 0.1525 - acc: 0.9479 - auc: 0.8190 - val_loss: 0.1484 - val_acc: 0.9488 - val_auc: 0.8233\n",
            " roc-auc score on validation data:  0.837752229409501\n",
            "\n",
            "Epoch 00007: saving model to weights-improvement-3-07-0.95.hdf5\n",
            "Epoch 8/10\n",
            "1169/1169 [==============================] - 806s 690ms/step - loss: 0.1490 - acc: 0.9486 - auc: 0.8273 - val_loss: 0.1488 - val_acc: 0.9479 - val_auc: 0.8311\n",
            " roc-auc score on validation data:  0.8400928069006846\n",
            "\n",
            "Epoch 00008: saving model to weights-improvement-3-08-0.95.hdf5\n",
            "Epoch 9/10\n",
            "1169/1169 [==============================] - 807s 690ms/step - loss: 0.1465 - acc: 0.9490 - auc: 0.8345 - val_loss: 0.1470 - val_acc: 0.9488 - val_auc: 0.8377\n",
            " roc-auc score on validation data:  0.843384952202817\n",
            "\n",
            "Epoch 00009: saving model to weights-improvement-3-09-0.95.hdf5\n",
            "Epoch 10/10\n",
            "1169/1169 [==============================] - 807s 690ms/step - loss: 0.1450 - acc: 0.9492 - auc: 0.8407 - val_loss: 0.1418 - val_acc: 0.9502 - val_auc: 0.8434\n",
            " roc-auc score on validation data:  0.8467437879663388\n",
            "\n",
            "Epoch 00010: saving model to weights-improvement-3-10-0.95.hdf5\n"
          ],
          "name": "stdout"
        },
        {
          "output_type": "execute_result",
          "data": {
            "text/plain": [
              "<keras.callbacks.History at 0x7fdac0124518>"
            ]
          },
          "metadata": {
            "tags": []
          },
          "execution_count": 38
        }
      ]
    },
    {
      "metadata": {
        "id": "9i462IZ7yjFC",
        "colab_type": "code",
        "outputId": "8be6b84a-ff05-4ad8-91f0-1e72d1bc8223",
        "colab": {
          "base_uri": "https://localhost:8080/",
          "height": 884
        }
      },
      "cell_type": "code",
      "source": [
        "model.fit_generator(generator=my_training_batch_generator,\n",
        "                   steps_per_epoch = int(18706 // batch_size),\n",
        "                   epochs = 10,\n",
        "                   verbose = 1,\n",
        "                   validation_data = my_validation_batch_generator,\n",
        "                   validation_steps = int(1285 // batch_size),\n",
        "                   callbacks = [roc_callbacks, checkpoint])"
      ],
      "execution_count": 0,
      "outputs": [
        {
          "output_type": "stream",
          "text": [
            "Epoch 1/10\n",
            "1169/1169 [==============================] - 807s 690ms/step - loss: 0.1429 - acc: 0.9495 - auc: 0.8461 - val_loss: 0.1448 - val_acc: 0.9486 - val_auc: 0.8485\n",
            " roc-auc score on validation data:  0.8474630912342359\n",
            "\n",
            "Epoch 00001: saving model to weights-improvement-4-01-0.95.hdf5\n",
            "Epoch 2/10\n",
            "1169/1169 [==============================] - 807s 690ms/step - loss: 0.1412 - acc: 0.9497 - auc: 0.8509 - val_loss: 0.1455 - val_acc: 0.9487 - val_auc: 0.8530\n",
            " roc-auc score on validation data:  0.8514929330973234\n",
            "\n",
            "Epoch 00002: saving model to weights-improvement-4-02-0.95.hdf5\n",
            "Epoch 3/10\n",
            "1169/1169 [==============================] - 807s 690ms/step - loss: 0.1395 - acc: 0.9502 - auc: 0.8551 - val_loss: 0.1440 - val_acc: 0.9498 - val_auc: 0.8570\n",
            " roc-auc score on validation data:  0.8480901358204932\n",
            "\n",
            "Epoch 00003: saving model to weights-improvement-4-03-0.95.hdf5\n",
            "Epoch 4/10\n",
            "1169/1169 [==============================] - 809s 692ms/step - loss: 0.1382 - acc: 0.9505 - auc: 0.8589 - val_loss: 0.1426 - val_acc: 0.9488 - val_auc: 0.8606\n",
            " roc-auc score on validation data:  0.8504184403500521\n",
            "\n",
            "Epoch 00004: saving model to weights-improvement-4-04-0.95.hdf5\n",
            "Epoch 5/10\n",
            "1169/1169 [==============================] - 812s 695ms/step - loss: 0.1371 - acc: 0.9505 - auc: 0.8623 - val_loss: 0.1437 - val_acc: 0.9502 - val_auc: 0.8639\n",
            " roc-auc score on validation data:  0.8528352348556093\n",
            "\n",
            "Epoch 00005: saving model to weights-improvement-4-05-0.95.hdf5\n",
            "Epoch 6/10\n",
            "1169/1169 [==============================] - 813s 695ms/step - loss: 0.1361 - acc: 0.9509 - auc: 0.8655 - val_loss: 0.1435 - val_acc: 0.9497 - val_auc: 0.8669\n",
            " roc-auc score on validation data:  0.8522165390633849\n",
            "\n",
            "Epoch 00006: saving model to weights-improvement-4-06-0.95.hdf5\n",
            "Epoch 7/10\n",
            "1169/1169 [==============================] - 811s 694ms/step - loss: 0.1350 - acc: 0.9508 - auc: 0.8683 - val_loss: 0.1401 - val_acc: 0.9498 - val_auc: 0.8697\n",
            " roc-auc score on validation data:  0.8523672848209572\n",
            "\n",
            "Epoch 00007: saving model to weights-improvement-4-07-0.95.hdf5\n",
            "Epoch 8/10\n",
            "1169/1169 [==============================] - 811s 694ms/step - loss: 0.1337 - acc: 0.9513 - auc: 0.8710 - val_loss: 0.1450 - val_acc: 0.9497 - val_auc: 0.8722\n",
            " roc-auc score on validation data:  0.8526132003585043\n",
            "\n",
            "Epoch 00008: saving model to weights-improvement-4-08-0.95.hdf5\n",
            "Epoch 9/10\n",
            "1169/1169 [==============================] - 812s 695ms/step - loss: 0.1329 - acc: 0.9514 - auc: 0.8734 - val_loss: 0.1433 - val_acc: 0.9498 - val_auc: 0.8746\n",
            " roc-auc score on validation data:  0.8546533436547235\n",
            "\n",
            "Epoch 00009: saving model to weights-improvement-4-09-0.95.hdf5\n",
            "Epoch 10/10\n",
            "1169/1169 [==============================] - 813s 695ms/step - loss: 0.1320 - acc: 0.9516 - auc: 0.8757 - val_loss: 0.1391 - val_acc: 0.9511 - val_auc: 0.8768\n",
            " roc-auc score on validation data:  0.8501626197816595\n",
            "\n",
            "Epoch 00010: saving model to weights-improvement-4-10-0.95.hdf5\n"
          ],
          "name": "stdout"
        },
        {
          "output_type": "execute_result",
          "data": {
            "text/plain": [
              "<keras.callbacks.History at 0x7fdaa9dc81d0>"
            ]
          },
          "metadata": {
            "tags": []
          },
          "execution_count": 60
        }
      ]
    },
    {
      "metadata": {
        "id": "j4N1X6K6E4Gp",
        "colab_type": "code",
        "outputId": "20f33896-11de-464f-c20d-94e69f1fdc58",
        "colab": {
          "base_uri": "https://localhost:8080/",
          "height": 731
        }
      },
      "cell_type": "code",
      "source": [
        "model.fit_generator(generator=my_training_batch_generator,\n",
        "                   steps_per_epoch = int(18706 // batch_size),\n",
        "                   epochs = 10,\n",
        "                   verbose = 1,\n",
        "                   validation_data = my_validation_batch_generator,\n",
        "                   validation_steps = int(1285 // batch_size),\n",
        "                   callbacks = [roc_callbacks, checkpoint])"
      ],
      "execution_count": 0,
      "outputs": [
        {
          "output_type": "stream",
          "text": [
            "Epoch 1/10\n",
            "1169/1169 [==============================] - 816s 698ms/step - loss: 0.1384 - acc: 0.9504 - auc: 0.8403 - val_loss: 0.1991 - val_acc: 0.9470 - val_auc: 0.8419\n",
            " roc-auc score on validation data:  0.7756967550626929\n",
            "\n",
            "Epoch 00001: saving model to weights-improvement-3-01-0.95.hdf5\n",
            "Epoch 2/10\n",
            "1169/1169 [==============================] - 817s 699ms/step - loss: 0.1375 - acc: 0.9505 - auc: 0.8434 - val_loss: 0.1812 - val_acc: 0.9423 - val_auc: 0.8449\n",
            " roc-auc score on validation data:  0.7685033106470428\n",
            "\n",
            "Epoch 00002: saving model to weights-improvement-3-02-0.94.hdf5\n",
            "Epoch 3/10\n",
            "1169/1169 [==============================] - 817s 699ms/step - loss: 0.1361 - acc: 0.9508 - auc: 0.8464 - val_loss: 0.1941 - val_acc: 0.9446 - val_auc: 0.8478\n",
            " roc-auc score on validation data:  0.7833851548473665\n",
            "\n",
            "Epoch 00003: saving model to weights-improvement-3-03-0.94.hdf5\n",
            "Epoch 4/10\n",
            "1169/1169 [==============================] - 818s 700ms/step - loss: 0.1351 - acc: 0.9510 - auc: 0.8492 - val_loss: 0.1927 - val_acc: 0.9468 - val_auc: 0.8505\n",
            " roc-auc score on validation data:  0.7777169771135176\n",
            "\n",
            "Epoch 00004: saving model to weights-improvement-3-04-0.95.hdf5\n",
            "Epoch 5/10\n",
            "1169/1169 [==============================] - 818s 700ms/step - loss: 0.1338 - acc: 0.9512 - auc: 0.8518 - val_loss: 0.1759 - val_acc: 0.9439 - val_auc: 0.8531\n",
            " roc-auc score on validation data:  0.7732694728801848\n",
            "\n",
            "Epoch 00005: saving model to weights-improvement-3-05-0.94.hdf5\n",
            "Epoch 6/10\n",
            "1169/1169 [==============================] - 819s 701ms/step - loss: 0.1328 - acc: 0.9515 - auc: 0.8543 - val_loss: 0.2012 - val_acc: 0.9440 - val_auc: 0.8555\n",
            " roc-auc score on validation data:  0.7635788319783727\n",
            "\n",
            "Epoch 00006: saving model to weights-improvement-3-06-0.94.hdf5\n",
            "Epoch 7/10\n",
            "1169/1169 [==============================] - 819s 700ms/step - loss: 0.1322 - acc: 0.9516 - auc: 0.8567 - val_loss: 0.2134 - val_acc: 0.9472 - val_auc: 0.8578\n",
            " roc-auc score on validation data:  0.7662564129827071\n",
            "\n",
            "Epoch 00007: saving model to weights-improvement-3-07-0.95.hdf5\n",
            "Epoch 8/10\n",
            "1169/1169 [==============================] - 818s 700ms/step - loss: 0.1312 - acc: 0.9520 - auc: 0.8588 - val_loss: 0.1833 - val_acc: 0.9436 - val_auc: 0.8599\n",
            " roc-auc score on validation data:  0.7692305424516503\n",
            "\n",
            "Epoch 00008: saving model to weights-improvement-3-08-0.94.hdf5\n",
            "Epoch 9/10\n",
            " 637/1169 [===============>..............] - ETA: 6:04 - loss: 0.1293 - acc: 0.9523 - auc: 0.8605"
          ],
          "name": "stdout"
        }
      ]
    },
    {
      "metadata": {
        "id": "-7ZPwK7FIEnS",
        "colab_type": "code",
        "colab": {}
      },
      "cell_type": "code",
      "source": [
        "# Install the PyDrive wrapper & import libraries.\n",
        "# This only needs to be done once in a notebook.\n",
        "!pip install -U -q PyDrive\n",
        "from pydrive.auth import GoogleAuth\n",
        "from pydrive.drive import GoogleDrive\n",
        "from google.colab import auth\n",
        "from oauth2client.client import GoogleCredentials"
      ],
      "execution_count": 0,
      "outputs": []
    },
    {
      "metadata": {
        "id": "nVXPSi9xIFbT",
        "colab_type": "code",
        "colab": {}
      },
      "cell_type": "code",
      "source": [
        "# Authenticate and create the PyDrive client.\n",
        "# This only needs to be done once in a notebook.\n",
        "auth.authenticate_user()\n",
        "gauth = GoogleAuth()\n",
        "gauth.credentials = GoogleCredentials.get_application_default()\n",
        "drive = GoogleDrive(gauth)"
      ],
      "execution_count": 0,
      "outputs": []
    },
    {
      "metadata": {
        "id": "sVaH2KkGIPZb",
        "colab_type": "code",
        "outputId": "76c9f3af-df70-4990-ac81-47303381c0da",
        "colab": {
          "base_uri": "https://localhost:8080/",
          "height": 187
        }
      },
      "cell_type": "code",
      "source": [
        "!ls"
      ],
      "execution_count": 0,
      "outputs": [
        {
          "output_type": "stream",
          "text": [
            "weights-improvement-3-01-0.94.hdf5  weights-improvement-4-01-0.95.hdf5\n",
            "weights-improvement-3-02-0.94.hdf5  weights-improvement-4-02-0.95.hdf5\n",
            "weights-improvement-3-03-0.95.hdf5  weights-improvement-4-03-0.95.hdf5\n",
            "weights-improvement-3-04-0.95.hdf5  weights-improvement-4-04-0.95.hdf5\n",
            "weights-improvement-3-05-0.95.hdf5  weights-improvement-4-05-0.95.hdf5\n",
            "weights-improvement-3-06-0.95.hdf5  weights-improvement-4-06-0.95.hdf5\n",
            "weights-improvement-3-07-0.95.hdf5  weights-improvement-4-07-0.95.hdf5\n",
            "weights-improvement-3-08-0.95.hdf5  weights-improvement-4-08-0.95.hdf5\n",
            "weights-improvement-3-09-0.95.hdf5  weights-improvement-4-09-0.95.hdf5\n",
            "weights-improvement-3-10-0.95.hdf5  weights-improvement-4-10-0.95.hdf5\n"
          ],
          "name": "stdout"
        }
      ]
    },
    {
      "metadata": {
        "id": "eiHYdehW69yX",
        "colab_type": "code",
        "colab": {}
      },
      "cell_type": "code",
      "source": [
        "#os.chdir('/content/new_model_saved')\n",
        "os.chdir('/content/')\n",
        "!ls"
      ],
      "execution_count": 0,
      "outputs": []
    },
    {
      "metadata": {
        "id": "CLBqOp1w7Rlg",
        "colab_type": "code",
        "outputId": "1881226d-9350-4506-af44-211a13597571",
        "colab": {
          "base_uri": "https://localhost:8080/",
          "height": 34
        }
      },
      "cell_type": "code",
      "source": [
        "import shutil\n",
        "\n",
        "shutil.make_archive('new_model_saved', 'zip', 'new_model_saved')"
      ],
      "execution_count": 0,
      "outputs": [
        {
          "output_type": "execute_result",
          "data": {
            "text/plain": [
              "'/content/new_model_saved.zip'"
            ]
          },
          "metadata": {
            "tags": []
          },
          "execution_count": 85
        }
      ]
    },
    {
      "metadata": {
        "id": "Suh5YuTgIFrR",
        "colab_type": "code",
        "outputId": "e24bd873-628d-45db-c8ca-8db64fffd2fb",
        "colab": {
          "base_uri": "https://localhost:8080/",
          "height": 34
        }
      },
      "cell_type": "code",
      "source": [
        "# Create & upload a file.\n",
        "uploaded = drive.CreateFile({'title': 'new_model_saved.zip'})\n",
        "uploaded.SetContentFile('new_model_saved.zip')\n",
        "uploaded.Upload()\n",
        "print('Uploaded file with ID {}'.format(uploaded.get('id')))"
      ],
      "execution_count": 0,
      "outputs": [
        {
          "output_type": "stream",
          "text": [
            "Uploaded file with ID 1UmrfZwJ89pnnix8cRM4WBXAOkOwYyDxB\n"
          ],
          "name": "stdout"
        }
      ]
    },
    {
      "metadata": {
        "id": "1MFyg8fiBhXF",
        "colab_type": "text"
      },
      "cell_type": "markdown",
      "source": [
        "# Testing on model"
      ]
    },
    {
      "metadata": {
        "id": "052yZ4dK58qK",
        "colab_type": "code",
        "colab": {}
      },
      "cell_type": "code",
      "source": [
        "test_batch_generator = My_Generator(testing_file_path, y_test_numpy, batch_size)"
      ],
      "execution_count": 0,
      "outputs": []
    },
    {
      "metadata": {
        "id": "_uzQ4W-F6EIW",
        "colab_type": "code",
        "outputId": "6c0c5178-4f0a-45fa-aec5-97da357f620f",
        "colab": {
          "base_uri": "https://localhost:8080/",
          "height": 51
        }
      },
      "cell_type": "code",
      "source": [
        "print(test_prediction.shape)\n",
        "\n",
        "print(y_test_numpy.shape)"
      ],
      "execution_count": 0,
      "outputs": [
        {
          "output_type": "stream",
          "text": [
            "(5329, 50)\n",
            "(5329, 50)\n"
          ],
          "name": "stdout"
        }
      ]
    },
    {
      "metadata": {
        "id": "mwuJylMF6D_1",
        "colab_type": "code",
        "colab": {}
      },
      "cell_type": "code",
      "source": [
        "test_prediction = model.predict_generator(test_batch_generator)"
      ],
      "execution_count": 0,
      "outputs": []
    },
    {
      "metadata": {
        "id": "4S-GzmOu6ETK",
        "colab_type": "code",
        "outputId": "b863bf50-26bf-4abc-eba8-fc505db64e78",
        "colab": {
          "base_uri": "https://localhost:8080/",
          "height": 34
        }
      },
      "cell_type": "code",
      "source": [
        "auc_roc_score = roc_auc_score(y_test_numpy, test_prediction)\n",
        "print(auc_roc_score)"
      ],
      "execution_count": 0,
      "outputs": [
        {
          "output_type": "stream",
          "text": [
            "0.8524437226818802\n"
          ],
          "name": "stdout"
        }
      ]
    },
    {
      "metadata": {
        "id": "L6fe4i9d9sHU",
        "colab_type": "code",
        "outputId": "89c497b4-1c6e-424b-ec76-ee9bc6bff91f",
        "colab": {
          "base_uri": "https://localhost:8080/",
          "height": 102
        }
      },
      "cell_type": "code",
      "source": [
        "print(np.around(test_prediction[2], decimals = 3)) "
      ],
      "execution_count": 0,
      "outputs": [
        {
          "output_type": "stream",
          "text": [
            "[0.228 0.    0.007 0.046 0.009 0.009 0.003 0.108 0.022 0.311 0.002 0.003\n",
            " 0.006 0.012 0.015 0.01  0.027 0.167 0.012 0.051 0.01  0.003 0.021 0.143\n",
            " 0.009 0.03  0.002 0.01  0.019 0.032 0.021 0.    0.322 0.024 0.    0.006\n",
            " 0.184 0.582 0.326 0.059 0.018 0.367 0.005 0.001 0.017 0.002 0.041 0.016\n",
            " 0.003 0.   ]\n"
          ],
          "name": "stdout"
        }
      ]
    },
    {
      "metadata": {
        "id": "19ed6MlW9uR-",
        "colab_type": "code",
        "outputId": "2389f9ed-f499-4952-8a80-b0f664b3a746",
        "colab": {
          "base_uri": "https://localhost:8080/",
          "height": 68
        }
      },
      "cell_type": "code",
      "source": [
        "y_test_numpy[2]"
      ],
      "execution_count": 0,
      "outputs": [
        {
          "output_type": "execute_result",
          "data": {
            "text/plain": [
              "array([0, 0, 0, 0, 0, 0, 0, 0, 0, 1, 0, 0, 0, 0, 0, 0, 0, 1, 0, 0, 0, 0,\n",
              "       0, 0, 0, 0, 0, 0, 0, 0, 0, 0, 1, 0, 0, 0, 1, 1, 1, 0, 0, 1, 0, 0,\n",
              "       0, 0, 0, 0, 0, 0])"
            ]
          },
          "metadata": {
            "tags": []
          },
          "execution_count": 103
        }
      ]
    },
    {
      "metadata": {
        "id": "hMxVT7hsBww9",
        "colab_type": "code",
        "colab": {}
      },
      "cell_type": "code",
      "source": [
        "test_validation_batch_generator = My_Generator(validation_file_path, y_val_numpy, batch_size)"
      ],
      "execution_count": 0,
      "outputs": []
    },
    {
      "metadata": {
        "id": "g4f-m8imsiqK",
        "colab_type": "code",
        "colab": {}
      },
      "cell_type": "code",
      "source": [
        "prediction_test = model.predict_generator(test_validation_batch_generator)\n",
        "#auc_roc_score = roc_auc_score(self.y_val_numpy, prediction_test)"
      ],
      "execution_count": 0,
      "outputs": []
    },
    {
      "metadata": {
        "id": "-doEfNPlAaRs",
        "colab_type": "code",
        "outputId": "64411dc0-dfae-487e-f3d4-0c598f04bda3",
        "colab": {
          "base_uri": "https://localhost:8080/",
          "height": 34
        }
      },
      "cell_type": "code",
      "source": [
        "print(prediction_test.shape)"
      ],
      "execution_count": 0,
      "outputs": [
        {
          "output_type": "stream",
          "text": [
            "(1825, 50)\n"
          ],
          "name": "stdout"
        }
      ]
    },
    {
      "metadata": {
        "id": "80uzEvVjCFS3",
        "colab_type": "code",
        "outputId": "e5615ef3-820a-40b5-bb40-060cf869bef1",
        "colab": {
          "base_uri": "https://localhost:8080/",
          "height": 34
        }
      },
      "cell_type": "code",
      "source": [
        "print(y_val_numpy.shape)"
      ],
      "execution_count": 0,
      "outputs": [
        {
          "output_type": "stream",
          "text": [
            "(1825, 50)\n"
          ],
          "name": "stdout"
        }
      ]
    },
    {
      "metadata": {
        "id": "uf4R5BF9CIJg",
        "colab_type": "code",
        "outputId": "782093a4-0740-457f-a8be-241448993692",
        "colab": {
          "base_uri": "https://localhost:8080/",
          "height": 34
        }
      },
      "cell_type": "code",
      "source": [
        "auc_roc_score = roc_auc_score(y_val_numpy, prediction_test)\n",
        "print(auc_roc_score)"
      ],
      "execution_count": 0,
      "outputs": [
        {
          "output_type": "stream",
          "text": [
            "0.8501626197816595\n"
          ],
          "name": "stdout"
        }
      ]
    },
    {
      "metadata": {
        "id": "NWeFfKyaWngf",
        "colab_type": "code",
        "outputId": "03c3627a-8ae5-4b50-91f8-4a0d9b8006fb",
        "colab": {
          "base_uri": "https://localhost:8080/",
          "height": 102
        }
      },
      "cell_type": "code",
      "source": [
        "print(prediction_test[2]>=0.4)"
      ],
      "execution_count": 0,
      "outputs": [
        {
          "output_type": "stream",
          "text": [
            "[False False False False False False False False False False False False\n",
            " False False False False False False False False False False  True False\n",
            " False False False False False False False False False False False False\n",
            " False False False False False False False False  True False False False\n",
            " False False]\n"
          ],
          "name": "stdout"
        }
      ]
    },
    {
      "metadata": {
        "id": "TvySBJh_inIj",
        "colab_type": "code",
        "outputId": "25f3606e-06ee-4d35-8ea6-a529697dfda0",
        "colab": {
          "base_uri": "https://localhost:8080/",
          "height": 68
        }
      },
      "cell_type": "code",
      "source": [
        "y_val_numpy[2]"
      ],
      "execution_count": 0,
      "outputs": [
        {
          "output_type": "execute_result",
          "data": {
            "text/plain": [
              "array([0, 0, 0, 0, 0, 0, 0, 0, 0, 0, 0, 0, 0, 0, 0, 0, 0, 0, 0, 0, 0, 0,\n",
              "       1, 0, 0, 0, 0, 0, 0, 0, 0, 0, 0, 0, 0, 0, 0, 0, 0, 0, 0, 0, 1, 0,\n",
              "       1, 0, 0, 0, 0, 0])"
            ]
          },
          "metadata": {
            "tags": []
          },
          "execution_count": 74
        }
      ]
    },
    {
      "metadata": {
        "id": "yAmwoS5gisDu",
        "colab_type": "code",
        "colab": {}
      },
      "cell_type": "code",
      "source": [
        ""
      ],
      "execution_count": 0,
      "outputs": []
    }
  ]
}