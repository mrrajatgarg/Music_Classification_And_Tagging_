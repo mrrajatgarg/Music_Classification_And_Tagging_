{
  "nbformat": 4,
  "nbformat_minor": 0,
  "metadata": {
    "colab": {
      "name": "script_to_run_2dcnn_model.ipynb",
      "version": "0.3.2",
      "provenance": [],
      "collapsed_sections": [],
      "include_colab_link": true
    },
    "kernelspec": {
      "name": "python3",
      "display_name": "Python 3"
    },
    "accelerator": "GPU"
  },
  "cells": [
    {
      "cell_type": "markdown",
      "metadata": {
        "id": "view-in-github",
        "colab_type": "text"
      },
      "source": [
        "<a href=\"https://colab.research.google.com/github/mrrajatgarg/Music_Classification_And_Tagging_/blob/master/script_to_run_2dcnn_model.ipynb\" target=\"_parent\"><img src=\"https://colab.research.google.com/assets/colab-badge.svg\" alt=\"Open In Colab\"/></a>"
      ]
    },
    {
      "metadata": {
        "id": "wgmBd0eiB_1_",
        "colab_type": "text"
      },
      "cell_type": "markdown",
      "source": [
        "# Importing Libraries"
      ]
    },
    {
      "metadata": {
        "id": "uB1MtSq9BzTh",
        "colab_type": "code",
        "colab": {}
      },
      "cell_type": "code",
      "source": [
        "import numpy as np\n",
        "import pandas as pd"
      ],
      "execution_count": 0,
      "outputs": []
    },
    {
      "metadata": {
        "id": "RiNI0AZpCDic",
        "colab_type": "code",
        "colab": {}
      },
      "cell_type": "code",
      "source": [
        "from skimage.io import imread\n",
        "from skimage.transform import resize"
      ],
      "execution_count": 0,
      "outputs": []
    },
    {
      "metadata": {
        "id": "nk6Kp4J0CE2w",
        "colab_type": "code",
        "colab": {}
      },
      "cell_type": "code",
      "source": [
        "import keras\n",
        "from keras.models import Sequential, Model, load_model\n",
        "from keras.layers import Input, Conv1D, Conv2D, MaxPooling1D, MaxPooling2D, Dense, Dropout, Activation, Flatten\n",
        "from keras.layers.normalization import BatchNormalization\n",
        "from keras.optimizers import SGD\n",
        "from keras.utils import to_categorical\n",
        "\n",
        "import kapre\n",
        "from kapre.time_frequency import Melspectrogram\n",
        "from kapre.utils import Normalization2D"
      ],
      "execution_count": 0,
      "outputs": []
    },
    {
      "metadata": {
        "id": "FATZdJMlCH3B",
        "colab_type": "code",
        "colab": {}
      },
      "cell_type": "code",
      "source": [
        "import sklearn\n",
        "from sklearn.metrics import roc_auc_score\n",
        "from keras.callbacks import Callback"
      ],
      "execution_count": 0,
      "outputs": []
    },
    {
      "metadata": {
        "id": "0Dtl00f-CLwx",
        "colab_type": "text"
      },
      "cell_type": "markdown",
      "source": [
        "# Downloading of dataset"
      ]
    },
    {
      "metadata": {
        "id": "qHUCawg4E33o",
        "colab_type": "text"
      },
      "cell_type": "markdown",
      "source": [
        "**X_train data: **\n",
        "\n",
        "https://drive.google.com/open?id=1FuPakB_kvoLWyFGSrGdiDt-ujNqFX8gH\n",
        "\n",
        "**y_train_pickle data: **\n",
        "\n",
        "https://drive.google.com/open?id=1-3I-y1JcjemDs709V7tA2KGR7phHBOMi\n",
        "\n",
        "**X_val data: **\n",
        "\n",
        "https://drive.google.com/open?id=1ei40eXUUQBOcGVERXEnaesJtsLjjEGCr\n",
        "\n",
        "**y_val data: **\n",
        "\n",
        "https://drive.google.com/open?id=1xxaqhW7tggAY7YYE9UDUu7HsKIsYS6HW"
      ]
    },
    {
      "metadata": {
        "id": "B5lu5PN6CKBB",
        "colab_type": "code",
        "colab": {}
      },
      "cell_type": "code",
      "source": [
        "X_train = np.load('path to training data')\n",
        "y_train_pickle = pd.read_pickle('path to labels of training data')\n",
        "y_train = y_train_pickle.values\n",
        "X_train = X_train.reshape(X_train.shape[0], 1366, 96, 1)"
      ],
      "execution_count": 0,
      "outputs": []
    },
    {
      "metadata": {
        "id": "dOpUjwuVD-ur",
        "colab_type": "code",
        "colab": {}
      },
      "cell_type": "code",
      "source": [
        "print(X_train.shape)\n",
        "print(y_train.shape)"
      ],
      "execution_count": 0,
      "outputs": []
    },
    {
      "metadata": {
        "id": "MwR5DNbHEDVD",
        "colab_type": "code",
        "colab": {}
      },
      "cell_type": "code",
      "source": [
        "X_val = np.load('path to validation data')\n",
        "y_val_pickle = pd.read_pickle('path to labels of validation data')\n",
        "y_val = y_val_pickle.values\n",
        "X_val = X_val.reshape(X_val.shape[0], 1366, 96, 1)"
      ],
      "execution_count": 0,
      "outputs": []
    },
    {
      "metadata": {
        "id": "3uNBTsgzEDac",
        "colab_type": "code",
        "colab": {}
      },
      "cell_type": "code",
      "source": [
        "print(X_val.shape)\n",
        "print(y_val.shape)"
      ],
      "execution_count": 0,
      "outputs": []
    },
    {
      "metadata": {
        "id": "_Yyhfr1HCOnm",
        "colab_type": "text"
      },
      "cell_type": "markdown",
      "source": [
        "# Model architecture"
      ]
    },
    {
      "metadata": {
        "id": "ml7pxZkXCP3g",
        "colab_type": "code",
        "colab": {}
      },
      "cell_type": "code",
      "source": [
        "\n",
        "class roc_callback(Callback):\n",
        "    def __init__(self,training_data,validation_data):\n",
        "        self.x = training_data[0]\n",
        "        self.y = training_data[1]\n",
        "        self.x_val = validation_data[0]\n",
        "        self.y_val = validation_data[1]\n",
        "\n",
        "\n",
        "    def on_train_begin(self, logs={}):\n",
        "        return\n",
        "\n",
        "    def on_train_end(self, logs={}):\n",
        "        return\n",
        "\n",
        "    def on_epoch_begin(self, epoch, logs={}):\n",
        "        return\n",
        "\n",
        "    def on_epoch_end(self, epoch, logs={}):\n",
        "        y_pred = self.model.predict(self.x)\n",
        "        roc = roc_auc_score(self.y, y_pred)\n",
        "        y_pred_val = self.model.predict(self.x_val)\n",
        "        roc_val = roc_auc_score(self.y_val, y_pred_val)\n",
        "        print('\\rroc-auc: %s - roc-auc_val: %s' % (str(round(roc,4)),str(round(roc_val,4))),end=100*' '+'\\n')\n",
        "        return\n",
        "\n",
        "    def on_batch_begin(self, batch, logs={}):\n",
        "        return\n",
        "\n",
        "    def on_batch_end(self, batch, logs={}):\n",
        "        return"
      ],
      "execution_count": 0,
      "outputs": []
    },
    {
      "metadata": {
        "id": "zps7_kpLC5pX",
        "colab_type": "code",
        "colab": {}
      },
      "cell_type": "code",
      "source": [
        "input_shape = X_train.shape[1:]  \n",
        "print(input_shape)"
      ],
      "execution_count": 0,
      "outputs": []
    },
    {
      "metadata": {
        "id": "9zIB4aQGCROq",
        "colab_type": "code",
        "colab": {}
      },
      "cell_type": "code",
      "source": [
        "model = Sequential()\n",
        "model.add(Melspectrogram(n_dft=1024, n_hop=512, input_shape=input_shape, return_decibel_melgram=True, name='melgram'))\n",
        "model.add(Normalization2D(str_axis='freq'))\n",
        "\n",
        "# Layer 1\n",
        "model.add(Conv2D(32, (3, 3), activation='relu'))\n",
        "# model.add(BatchNormalization())\n",
        "model.add(MaxPooling2D(pool_size=(2, 2))) \n",
        "\n",
        "# Layer 2\n",
        "model.add(Conv2D(32, (3, 3), activation='relu'))\n",
        "# model.add(BatchNormalization())\n",
        "model.add(MaxPooling2D(pool_size=(2, 2))) \n",
        "model.add(Flatten()) \n",
        "\n",
        "model.add(Dense(100, activation='relu')) \n",
        "# model.add(BatchNormalization())\n",
        "model.add(Dense(50,activation='sigmoid'))\n",
        "\n",
        "model.compile(loss='binary_crossentropy' , optimizer='sgd' , metrics=['accuracy'])"
      ],
      "execution_count": 0,
      "outputs": []
    },
    {
      "metadata": {
        "id": "8QYnB2FpC9Yo",
        "colab_type": "code",
        "colab": {}
      },
      "cell_type": "code",
      "source": [
        "model.summary()"
      ],
      "execution_count": 0,
      "outputs": []
    },
    {
      "metadata": {
        "id": "ArScVaPJDSjQ",
        "colab_type": "text"
      },
      "cell_type": "markdown",
      "source": [
        "Change the number of epochs as you want\n",
        "here, epochs = 10"
      ]
    },
    {
      "metadata": {
        "id": "vienKwxICVL2",
        "colab_type": "code",
        "colab": {}
      },
      "cell_type": "code",
      "source": [
        "model.fit(X_train, y_train, validation_data=(X_val, y_val), \n",
        "          callbacks=[roc_callback(training_data=(X_train, y_train),validation_data=(X_val, y_val))],\n",
        "         batch_size=32, epochs=100)"
      ],
      "execution_count": 0,
      "outputs": []
    }
  ]
}
